{
 "cells": [
  {
   "cell_type": "markdown",
   "metadata": {},
   "source": [
    "# Voter Model (Dynamics on Networks)\n",
    "### Nicolas Gort Freitas"
   ]
  },
  {
   "cell_type": "code",
   "execution_count": 230,
   "metadata": {
    "collapsed": true
   },
   "outputs": [],
   "source": [
    "import matplotlib.pyplot as plt\n",
    "#matplotlib.use('TkAgg')\n",
    "import numpy as np\n",
    "import networkx as nx\n",
    "import seaborn as sns\n",
    "\n",
    "class VoterModel:\n",
    "    \n",
    "    def __init__(self):\n",
    "        self.counts = []\n",
    "        self.timesteps = 0\n",
    "        self.g = nx.karate_club_graph()\n",
    "        self.g.pos = nx.spring_layout(g)\n",
    "        \n",
    "        for i in g.nodes:\n",
    "            self.g.nodes[i]['state'] = 1 if np.random.random() < .5 else 0\n",
    "\n",
    "\n",
    "            \n",
    "    def observe(self):\n",
    "        plt.cla()\n",
    "        nx.draw(self.g, vmin = 0, vmax = 1,\n",
    "            node_color = [self.g.nodes[i]['state'] for i in self.g.nodes],\n",
    "            pos = self.g.pos)\n",
    "        plt.show()\n",
    "            \n",
    "    def update(self):\n",
    "        listener = np.random.choice(list(self.g.nodes))\n",
    "        speaker = np.random.choice(list(self.g.neighbors(listener)))\n",
    "        self.g.nodes[listener]['state'] = g.nodes[speaker]['state']\n",
    "\n",
    "        self.timesteps+=1\n",
    "        self.counts.append(np.sum([self.g.nodes[n]['state'] for n in self.g.nodes])/self.g.number_of_nodes())\n",
    "        \n",
    "    def update_rev(self):\n",
    "        speaker = np.random.choice(list(self.g.nodes))\n",
    "        listener = np.random.choice(list(self.g.neighbors(speaker)))\n",
    "\n",
    "        self.g.nodes[listener]['state'] = g.nodes[speaker]['state']\n",
    "\n",
    "        self.timesteps+=1\n",
    "        self.counts.append(np.sum([self.g.nodes[n]['state'] for n in self.g.nodes])/self.g.number_of_nodes())\n",
    "        \n",
    "    def update_sym(self):\n",
    "        sampled_edge = list(model.g.edges)[np.random.randint(0,len(list(model.g.edges)))]\n",
    "        speaker, listener = np.random.choice(list(sampled_edge),2,replace=False)\n",
    "        \n",
    "        self.g.nodes[listener]['state'] = g.nodes[speaker]['state']\n",
    "\n",
    "        self.timesteps+=1\n",
    "        self.counts.append(np.sum([self.g.nodes[n]['state'] for n in self.g.nodes])/self.g.number_of_nodes())\n",
    "        \n"
   ]
  },
  {
   "cell_type": "code",
   "execution_count": 236,
   "metadata": {},
   "outputs": [
    {
     "data": {
      "image/png": "[encoded data removed]",
      "text/plain": [
       "<matplotlib.figure.Figure at 0x1a0c202550>"
      ]
     },
     "metadata": {},
     "output_type": "display_data"
    }
   ],
   "source": [
    "times_required = []\n",
    "times_required_rev = []\n",
    "times_required_sym = []\n",
    "\n",
    "for _ in range(100):\n",
    "    model = VoterModel()\n",
    "    for __ in range(1400): \n",
    "        model.update()\n",
    "        if model.counts[-1] in [0.0, 1.0]: break\n",
    "        times_required.append(model.timesteps)\n",
    "\n",
    "for _ in range(100):\n",
    "    model = VoterModel()\n",
    "    for __ in range(1400): \n",
    "        model.update_rev()\n",
    "        if model.counts[-1] in [0.0, 1.0]: break\n",
    "        times_required_rev.append(model.timesteps)\n",
    "\n",
    "for _ in range(100):\n",
    "    model = VoterModel()\n",
    "    for __ in range(1400): \n",
    "        model.update_sym()\n",
    "        if model.counts[-1] in [0.0, 1.0]: break\n",
    "        times_required_sym.append(model.timesteps)\n",
    "\n",
    "sns.distplot(times_required, label = 'Original')\n",
    "sns.distplot(times_required_rev, label = 'Reversed')\n",
    "sns.distplot(times_required_sym, label = 'Symmetric')\n",
    "plt.legend()\n",
    "#plt.title('Average: {}'.format(round(np.mean(times_required),2)))\n",
    "plt.show()"
   ]
  }
 ],
 "metadata": {
  "kernelspec": {
   "display_name": "Python 3",
   "language": "python",
   "name": "python3"
  },
  "language_info": {
   "codemirror_mode": {
    "name": "ipython",
    "version": 3
   },
   "file_extension": ".py",
   "mimetype": "text/x-python",
   "name": "python",
   "nbconvert_exporter": "python",
   "pygments_lexer": "ipython3",
   "version": "3.6.2"
  }
 },
 "nbformat": 4,
 "nbformat_minor": 2
}
