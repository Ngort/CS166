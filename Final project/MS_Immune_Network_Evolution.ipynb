{
 "cells": [
  {
   "cell_type": "code",
   "execution_count": 2,
   "metadata": {
    "collapsed": true
   },
   "outputs": [],
   "source": [
    "import numpy as np\n",
    "import networkx as nx\n",
    "import matplotlib.pyplot as plt"
   ]
  },
  {
   "cell_type": "code",
   "execution_count": 166,
   "metadata": {},
   "outputs": [],
   "source": [
    "\n",
    "class Host:\n",
    "    def __init__(self):\n",
    "        self.network = nx.binomial_graph(directed=True, n=n_nodes,p=0.5)\n",
    "        \n",
    "        for node in self.network.nodes:\n",
    "            self.network.nodes[node]['active'] = 0.5\n",
    "            \n",
    "        \n",
    "        to_detector = [e for e in list(self.network.edges) if e[1] ==0]\n",
    "        from_effector = [e for e in list(self.network.edges) if e[0] ==n_nodes-1]\n",
    "        \n",
    "        self.network.remove_edges_from(from_effector + to_detector + [(0,n_nodes-1)])\n",
    "        \n",
    "        for u,v,e in self.network.edges(data=True):\n",
    "            e['weight'] = 0.5\n",
    "        \n",
    "        \n",
    "    \n",
    "    def update(self):\n",
    "        temp = self.network\n",
    "        \n",
    "        for node in self.network.nodes:\n",
    "           \"\"\"\n",
    "           to do: loop over all nodes with incoming\n",
    "           links to each node, check whether they are\n",
    "           positive or negative, construct the variables\n",
    "           sum of kij x p*j and sum of lij x p*j\n",
    "           \n",
    "           \"\"\"\n",
    "        \n",
    "            pass \n",
    "            \n",
    "            \n",
    "            #temp.nodes[node]['active'] = 0.5\n",
    "            \n",
    "        #for node\n",
    "        \n",
    "\n",
    "\n",
    "    \n",
    "#     network = nx.\n",
    "    \n",
    "    \n",
    "#     def fitness(self):\n",
    "#         return np.exp(-self.network)"
   ]
  },
  {
   "cell_type": "code",
   "execution_count": 159,
   "metadata": {},
   "outputs": [
    {
     "data": {
      "image/png": "[encoded data removed]",
      "text/plain": [
       "<matplotlib.figure.Figure at 0x109b240b8>"
      ]
     },
     "metadata": {},
     "output_type": "display_data"
    },
    {
     "data": {
      "text/plain": [
       "NodeDataView({0: {'active': 0.5}, 1: {'active': 0.5}, 2: {'active': 0.5}, 3: {'active': 0.5}, 4: {'active': 0.5}})"
      ]
     },
     "execution_count": 159,
     "metadata": {},
     "output_type": "execute_result"
    }
   ],
   "source": [
    "n_nodes = 5\n",
    "host_network = nx.binomial_graph(directed=True, n=n_nodes,p=0.5)\n",
    "\n",
    "to_detector = [e for e in list(host_network.edges) if e[1] ==0]\n",
    "from_effector = [e for e in list(host_network.edges) if e[0] ==n_nodes-1]\n",
    "\n",
    "for node in host_network.nodes:\n",
    "    host_network.nodes[node]['active'] = 0.5\n",
    "    \n",
    "\n",
    "host_network.remove_edges_from(from_effector + to_detector + [(0,n_nodes-1)])\n",
    "\n",
    "\n",
    "for u,v,e in host_network.edges(data=True):\n",
    "    e['weight'] = 0.5\n",
    "\n",
    "edges,weights = zip(*nx.get_edge_attributes(host_network,'weight').items())\n",
    "\n",
    "nx.draw(host_network, node_size=1000,\n",
    "        with_labels=True, labels = dict(zip(host_network.nodes,['D','S','S','S','E'])),\n",
    "        cmap= plt.cm.seismic, edge_color=weights,\n",
    "       width=5) \n",
    "        #edge_labels=[e['weight'] for e in host_network.edges] )\n",
    "plt.show()\n",
    "\n",
    "#dict(zip(host_network.nodes,['D','S','S','S','E']))\n",
    "host_network.nodes.data()"
   ]
  },
  {
   "cell_type": "code",
   "execution_count": 139,
   "metadata": {},
   "outputs": [
    {
     "data": {
      "text/plain": [
       "[0, 1, 2, 3, 4]"
      ]
     },
     "execution_count": 139,
     "metadata": {},
     "output_type": "execute_result"
    }
   ],
   "source": [
    "[node for node in host_network.nodes]\n",
    "#list(host_network.nodes)[0]"
   ]
  },
  {
   "cell_type": "code",
   "execution_count": 22,
   "metadata": {},
   "outputs": [
    {
     "ename": "TypeError",
     "evalue": "'int' object is not iterable",
     "output_type": "error",
     "traceback": [
      "\u001b[0;31m---------------------------------------------------------------------------\u001b[0m",
      "\u001b[0;31mTypeError\u001b[0m                                 Traceback (most recent call last)",
      "\u001b[0;32m<ipython-input-22-5bb8f39ab3cf>\u001b[0m in \u001b[0;36m<module>\u001b[0;34m()\u001b[0m\n\u001b[0;32m----> 1\u001b[0;31m \u001b[0mhost_network\u001b[0m\u001b[0;34m.\u001b[0m\u001b[0mremove_edges_from\u001b[0m\u001b[0;34m(\u001b[0m\u001b[0mn_nodes\u001b[0m\u001b[0;34m-\u001b[0m\u001b[0;36m1\u001b[0m\u001b[0;34m)\u001b[0m\u001b[0;34m\u001b[0m\u001b[0m\n\u001b[0m",
      "\u001b[0;32m~/anaconda3/lib/python3.6/site-packages/networkx/classes/digraph.py\u001b[0m in \u001b[0;36mremove_edges_from\u001b[0;34m(self, ebunch)\u001b[0m\n\u001b[1;32m    753\u001b[0m         \u001b[0;34m>>\u001b[0m\u001b[0;34m>\u001b[0m \u001b[0mG\u001b[0m\u001b[0;34m.\u001b[0m\u001b[0mremove_edges_from\u001b[0m\u001b[0;34m(\u001b[0m\u001b[0mebunch\u001b[0m\u001b[0;34m)\u001b[0m\u001b[0;34m\u001b[0m\u001b[0m\n\u001b[1;32m    754\u001b[0m         \"\"\"\n\u001b[0;32m--> 755\u001b[0;31m         \u001b[0;32mfor\u001b[0m \u001b[0me\u001b[0m \u001b[0;32min\u001b[0m \u001b[0mebunch\u001b[0m\u001b[0;34m:\u001b[0m\u001b[0;34m\u001b[0m\u001b[0m\n\u001b[0m\u001b[1;32m    756\u001b[0m             \u001b[0mu\u001b[0m\u001b[0;34m,\u001b[0m \u001b[0mv\u001b[0m \u001b[0;34m=\u001b[0m \u001b[0me\u001b[0m\u001b[0;34m[\u001b[0m\u001b[0;34m:\u001b[0m\u001b[0;36m2\u001b[0m\u001b[0;34m]\u001b[0m  \u001b[0;31m# ignore edge data\u001b[0m\u001b[0;34m\u001b[0m\u001b[0m\n\u001b[1;32m    757\u001b[0m             \u001b[0;32mif\u001b[0m \u001b[0mu\u001b[0m \u001b[0;32min\u001b[0m \u001b[0mself\u001b[0m\u001b[0;34m.\u001b[0m\u001b[0m_succ\u001b[0m \u001b[0;32mand\u001b[0m \u001b[0mv\u001b[0m \u001b[0;32min\u001b[0m \u001b[0mself\u001b[0m\u001b[0;34m.\u001b[0m\u001b[0m_succ\u001b[0m\u001b[0;34m[\u001b[0m\u001b[0mu\u001b[0m\u001b[0;34m]\u001b[0m\u001b[0;34m:\u001b[0m\u001b[0;34m\u001b[0m\u001b[0m\n",
      "\u001b[0;31mTypeError\u001b[0m: 'int' object is not iterable"
     ]
    }
   ],
   "source": [
    "host_network.remove_edges_from(n_nodes-1)"
   ]
  },
  {
   "cell_type": "code",
   "execution_count": 165,
   "metadata": {},
   "outputs": [
    {
     "data": {
      "text/plain": [
       "[]"
      ]
     },
     "execution_count": 165,
     "metadata": {},
     "output_type": "execute_result"
    }
   ],
   "source": [
    "list(host_network.neighbors(4))"
   ]
  },
  {
   "cell_type": "code",
   "execution_count": null,
   "metadata": {
    "collapsed": true
   },
   "outputs": [],
   "source": []
  }
 ],
 "metadata": {
  "kernelspec": {
   "display_name": "Python 3",
   "language": "python",
   "name": "python3"
  },
  "language_info": {
   "codemirror_mode": {
    "name": "ipython",
    "version": 3
   },
   "file_extension": ".py",
   "mimetype": "text/x-python",
   "name": "python",
   "nbconvert_exporter": "python",
   "pygments_lexer": "ipython3",
   "version": "3.6.2"
  }
 },
 "nbformat": 4,
 "nbformat_minor": 2
}
