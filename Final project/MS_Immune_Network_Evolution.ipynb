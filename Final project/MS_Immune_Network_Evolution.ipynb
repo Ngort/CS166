{
 "cells": [
  {
   "cell_type": "code",
   "execution_count": 232,
   "metadata": {
    "collapsed": true
   },
   "outputs": [],
   "source": [
    "import numpy as np\n",
    "import networkx as nx\n",
    "import matplotlib.pyplot as plt\n",
    "import matplotlib"
   ]
  },
  {
   "cell_type": "code",
   "execution_count": 233,
   "metadata": {},
   "outputs": [],
   "source": [
    "\n",
    "class Host:\n",
    "    def __init__(self):\n",
    "        n_nodes = 6\n",
    "        \n",
    "        self.network = nx.binomial_graph(directed=True, n=n_nodes,p=0.5)\n",
    "        \n",
    "        for node in self.network.nodes:\n",
    "            self.network.nodes[node]['active'] = 0.5\n",
    "            \n",
    "        \n",
    "        to_detector = [e for e in list(self.network.edges) if e[1] ==0]\n",
    "        from_effector = [e for e in list(self.network.edges) if e[0] ==n_nodes-1]\n",
    "        \n",
    "        self.network.remove_edges_from(from_effector + to_detector + [(0,n_nodes-1)])\n",
    "        \n",
    "        for u,v,e in self.network.edges(data=True):\n",
    "            e['weight'] = 0.5\n",
    "        \n",
    "        \n",
    "    \n",
    "    def update(self):\n",
    "        temp = self.network\n",
    "        \n",
    "        for node in self.network.nodes:\n",
    "           \"\"\"\n",
    "           to do: loop over all nodes with incoming\n",
    "           links to each node, check whether they are\n",
    "           positive or negative, construct the variables\n",
    "           sum of kij x p*j and sum of lij x p*j\n",
    "           \n",
    "           \"\"\"\n",
    "        \n",
    "           pass \n",
    "    \n",
    "    \n",
    "    def fitness(self):\n",
    "        \"\"\"\n",
    "        formula for fitness\n",
    "        \"\"\"\n",
    "        pass\n",
    "        \n",
    "    def mutate(self):\n",
    "        pass\n",
    "    \n",
    "    \n",
    "    def observe(self):\n",
    "        edges,weights = zip(*nx.get_edge_attributes(self.network,'weight').items())\n",
    "        \n",
    "        letters = ['D']+(self.network.number_of_nodes()-2)*['S']+['E']\n",
    "        labels = dict(zip(self.network.nodes,letters))\n",
    "        \n",
    "        nx.draw(self.network, node_size=1000,\n",
    "        with_labels=True, labels = labels,\n",
    "        cmap= plt.cm.viridis, edge_color=weights,\n",
    "       width=5) \n",
    "        \n",
    "        \n",
    "#         return np.exp(-self.network)"
   ]
  },
  {
   "cell_type": "code",
   "execution_count": 703,
   "metadata": {},
   "outputs": [
    {
     "data": {
      "image/png": "[encoded data removed]",
      "text/plain": [
       "<matplotlib.figure.Figure at 0x10aab77b8>"
      ]
     },
     "metadata": {},
     "output_type": "display_data"
    },
    {
     "data": {
      "text/plain": [
       "(-0.06427616344671738,\n",
       " -0.3755172997895839,\n",
       " -0.38469888526620977,\n",
       " -0.13772058486657734,\n",
       " 0.3357358242450148,\n",
       " 0.1626948870652548,\n",
       " 0.25145591404661793,\n",
       " -0.14044472344084324,\n",
       " 0.2946025690814479,\n",
       " 0.18560453827597734,\n",
       " 0.3056961827508714,\n",
       " 0.05604628875394624,\n",
       " 0.3624434389607243,\n",
       " -0.29735998797805985)"
      ]
     },
     "execution_count": 703,
     "metadata": {},
     "output_type": "execute_result"
    }
   ],
   "source": [
    "n_nodes = 6\n",
    "host_network = nx.binomial_graph(directed=True, n=n_nodes,p=0.5)\n",
    "\n",
    "#to_detector = [e for e in list(host_network.edges) if e[1] ==0]\n",
    "#from_effector = [e for e in list(host_network.edges) if e[0] ==n_nodes-1]\n",
    "\n",
    "for node in host_network.nodes:\n",
    "    host_network.nodes[node]['active'] = 0.5\n",
    "    \n",
    "\n",
    "\n",
    "\n",
    "\n",
    "for u,v,e in host_network.edges(data=True):\n",
    "    e['weight'] = np.random.uniform(-0.5,0.5)\n",
    "\n",
    "host_network.remove_edges_from([(0,n_nodes-1),(n_nodes-1,0)])\n",
    "\n",
    "edges,weights = zip(*nx.get_edge_attributes(host_network,'weight').items())\n",
    "\n",
    "activating = [e for e,w in nx.get_edge_attributes(host_network,'weight').items() if w > 0]\n",
    "positive_weights = [round(w,1) for e,w in nx.get_edge_attributes(host_network,'weight').items() if w > 0]\n",
    "\n",
    "deactivating = [e for e,w in nx.get_edge_attributes(host_network,'weight').items() if w < 0]\n",
    "negative_weights = [round(w,1) for e,w in nx.get_edge_attributes(host_network,'weight').items() if w < 0]\n",
    "\n",
    "\n",
    "\n",
    "pos = nx.shell_layout(host_network)\n",
    "\n",
    "# nx.draw_networkx(host_network, node_size=1000,\n",
    "#         with_labels=True, labels = dict(zip(host_network.nodes,['D','S','S','S','E'])),\n",
    "#         edge_cmap= plt.cm.viridis, edge_color=weights,\n",
    "#        width=4, alpha=0, style='dotdashed') \n",
    "\n",
    "\n",
    "        #edge_labels=[e['weight'] for e in host_network.edges] )\n",
    "nx.draw_networkx_nodes(host_network, node_size=300, pos=pos, alpha=1, \n",
    "                       node_color='c')  \n",
    "\n",
    "graph_act_edges =nx.draw_networkx_edges(host_network, edgelist=activating,\n",
    "                       pos=pos, width=[10*abs(w)+1 for w in positive_weights], arrowsize=20, edge_color= '#0055FF',\n",
    "                        #edge_cmap= plt.cm.Blues, vmax=1, edge_color=positive_weights,\n",
    "                        alpha=1)\n",
    "\n",
    "graph_deact_edges = nx.draw_networkx_edges(host_network, edgelist=deactivating,\n",
    "                       pos=pos, width=[10*abs(w)+1 for w in negative_weights], arrowsize=30, edge_color = '#FF0000',\n",
    "                        #edge_cmap= plt.cm.Reds, edge_color=negative_weights,\n",
    "                        alpha=0.6, arrowstyle=matplotlib.patches.ArrowStyle(\"|-|\",widthA=0, widthB=0.3))\n",
    "\n",
    "letters = ['D']+(host_network.number_of_nodes()-2)*['S']+['E']\n",
    "labels = dict(zip(host_network.nodes,letters))\n",
    "\n",
    "nx.draw_networkx_labels(host_network, pos=pos, \n",
    "                       labels = labels)\n",
    "nx.draw_networkx_edge_labels(host_network, font_color='#0055FF', label_pos=0.3, pos=pos, edge_labels=dict(zip(activating,positive_weights)))\n",
    "nx.draw_networkx_edge_labels(host_network, font_color='#FF0000', label_pos = 0.3, pos=pos, edge_labels=dict(zip(deactivating,negative_weights)))\n",
    "\n",
    "\n",
    "\n",
    "\n",
    "ax = plt.gca() # to get the current axis\n",
    "\n",
    "\n",
    "for e in graph_act_edges+graph_deact_edges:\n",
    "    pass\n",
    "    #e.set_edgecolor(\"k\")\n",
    "    #e.set_linewidth(16)\n",
    "    #e.set_joinstyle('miter')\n",
    "    #e.set_connectionstyle('Arc3')\n",
    "    e.set_alpha(0.5)\n",
    "\n",
    "plt.show()\n",
    "\n",
    "weights"
   ]
  },
  {
   "cell_type": "code",
   "execution_count": 697,
   "metadata": {},
   "outputs": [
    {
     "data": {
      "text/plain": [
       "{(0, 2): -0.06475607424153917,\n",
       " (0, 3): 0.382103889541231,\n",
       " (1, 3): -0.30916043971361973,\n",
       " (1, 4): -0.12957567823160165,\n",
       " (1, 5): 0.1856627351192447,\n",
       " (2, 0): -0.07012656304744902,\n",
       " (2, 1): -0.08959887373560615,\n",
       " (2, 5): 0.27170626356629024,\n",
       " (3, 2): 0.1291968475362848,\n",
       " (3, 4): 0.15884696390867492,\n",
       " (4, 0): -0.365554191188434,\n",
       " (4, 1): -0.19839045406225542,\n",
       " (4, 2): -0.33764931748273685,\n",
       " (4, 3): 0.1642202419449239,\n",
       " (5, 0): 0.2635456978042827}"
      ]
     },
     "execution_count": 697,
     "metadata": {},
     "output_type": "execute_result"
    }
   ],
   "source": [
    "#graph_edges\n",
    "nx.get_edge_attributes(host_network,'weight')\n",
    "\n",
    "#[node for node in host_network.nodes]\n",
    "#list(host_network.nodes)[0]"
   ]
  },
  {
   "cell_type": "code",
   "execution_count": 171,
   "metadata": {},
   "outputs": [
    {
     "ename": "TypeError",
     "evalue": "'int' object is not iterable",
     "output_type": "error",
     "traceback": [
      "\u001b[0;31m---------------------------------------------------------------------------\u001b[0m",
      "\u001b[0;31mTypeError\u001b[0m                                 Traceback (most recent call last)",
      "\u001b[0;32m<ipython-input-171-5bb8f39ab3cf>\u001b[0m in \u001b[0;36m<module>\u001b[0;34m()\u001b[0m\n\u001b[0;32m----> 1\u001b[0;31m \u001b[0mhost_network\u001b[0m\u001b[0;34m.\u001b[0m\u001b[0mremove_edges_from\u001b[0m\u001b[0;34m(\u001b[0m\u001b[0mn_nodes\u001b[0m\u001b[0;34m-\u001b[0m\u001b[0;36m1\u001b[0m\u001b[0;34m)\u001b[0m\u001b[0;34m\u001b[0m\u001b[0m\n\u001b[0m",
      "\u001b[0;32m~/anaconda3/lib/python3.6/site-packages/networkx/classes/digraph.py\u001b[0m in \u001b[0;36mremove_edges_from\u001b[0;34m(self, ebunch)\u001b[0m\n\u001b[1;32m    753\u001b[0m         \u001b[0;34m>>\u001b[0m\u001b[0;34m>\u001b[0m \u001b[0mG\u001b[0m\u001b[0;34m.\u001b[0m\u001b[0mremove_edges_from\u001b[0m\u001b[0;34m(\u001b[0m\u001b[0mebunch\u001b[0m\u001b[0;34m)\u001b[0m\u001b[0;34m\u001b[0m\u001b[0m\n\u001b[1;32m    754\u001b[0m         \"\"\"\n\u001b[0;32m--> 755\u001b[0;31m         \u001b[0;32mfor\u001b[0m \u001b[0me\u001b[0m \u001b[0;32min\u001b[0m \u001b[0mebunch\u001b[0m\u001b[0;34m:\u001b[0m\u001b[0;34m\u001b[0m\u001b[0m\n\u001b[0m\u001b[1;32m    756\u001b[0m             \u001b[0mu\u001b[0m\u001b[0;34m,\u001b[0m \u001b[0mv\u001b[0m \u001b[0;34m=\u001b[0m \u001b[0me\u001b[0m\u001b[0;34m[\u001b[0m\u001b[0;34m:\u001b[0m\u001b[0;36m2\u001b[0m\u001b[0;34m]\u001b[0m  \u001b[0;31m# ignore edge data\u001b[0m\u001b[0;34m\u001b[0m\u001b[0m\n\u001b[1;32m    757\u001b[0m             \u001b[0;32mif\u001b[0m \u001b[0mu\u001b[0m \u001b[0;32min\u001b[0m \u001b[0mself\u001b[0m\u001b[0;34m.\u001b[0m\u001b[0m_succ\u001b[0m \u001b[0;32mand\u001b[0m \u001b[0mv\u001b[0m \u001b[0;32min\u001b[0m \u001b[0mself\u001b[0m\u001b[0;34m.\u001b[0m\u001b[0m_succ\u001b[0m\u001b[0;34m[\u001b[0m\u001b[0mu\u001b[0m\u001b[0;34m]\u001b[0m\u001b[0;34m:\u001b[0m\u001b[0;34m\u001b[0m\u001b[0m\n",
      "\u001b[0;31mTypeError\u001b[0m: 'int' object is not iterable"
     ]
    }
   ],
   "source": [
    "host_network.remove_edges_from(n_nodes-1)"
   ]
  },
  {
   "cell_type": "code",
   "execution_count": 165,
   "metadata": {},
   "outputs": [
    {
     "data": {
      "text/plain": [
       "[]"
      ]
     },
     "execution_count": 165,
     "metadata": {},
     "output_type": "execute_result"
    }
   ],
   "source": [
    "list(host_network.neighbors(4))"
   ]
  },
  {
   "cell_type": "code",
   "execution_count": 331,
   "metadata": {},
   "outputs": [
    {
     "data": {
      "image/png": "[encoded data removed]",
      "text/plain": [
       "<matplotlib.figure.Figure at 0x109032cc0>"
      ]
     },
     "metadata": {},
     "output_type": "display_data"
    }
   ],
   "source": [
    "G = nx.DiGraph()\n",
    "G.add_nodes_from([0,1])\n",
    "pos = nx.circular_layout(G)\n",
    "nx.draw_networkx_nodes(G, pos, node_color = 'r', node_size = 100, alpha = 1)\n",
    "nx.draw_networkx_edges(G, pos, edgelist = [(0,1)], width = 2, alpha = 0.5, edge_color='b')\n",
    "nx.draw_networkx_edges(G, pos, edgelist= [(1,0)], width = 1, alpha = 1)\n",
    "plt.axis('off')\n",
    "plt.show() "
   ]
  },
  {
   "cell_type": "code",
   "execution_count": 352,
   "metadata": {},
   "outputs": [
    {
     "data": {
      "text/plain": [
       "[(1, 3), (2, 4), (3, 0), (4, 3)]"
      ]
     },
     "execution_count": 352,
     "metadata": {},
     "output_type": "execute_result"
    }
   ],
   "source": [
    "#list(host_network.edges.data())\n",
    "\n",
    "activating = [(u,v) for u,v,d in host_network.edges.data() if d['weight'] > 0]\n",
    "deactivating =[(u,v) for u,v,d in host_network.edges.data() if d['weight'] < 0]"
   ]
  },
  {
   "cell_type": "code",
   "execution_count": 390,
   "metadata": {},
   "outputs": [],
   "source": [
    "activating = [(e,w) for e,w in nx.get_edge_attributes(host_network,'weight').items() if w > 0]\n",
    "deactivating = [(e,w) for e,w in nx.get_edge_attributes(host_network,'weight').items() if w < 0]\n",
    "\n",
    "positive_weights = \n",
    "negative_weights = "
   ]
  },
  {
   "cell_type": "code",
   "execution_count": 406,
   "metadata": {},
   "outputs": [
    {
     "data": {
      "text/plain": [
       "array([[(2, 0), 0.5],\n",
       "       [(2, 3), 0.5],\n",
       "       [(4, 2), 0.5],\n",
       "       [(4, 3), 0.5]], dtype=object)"
      ]
     },
     "execution_count": 406,
     "metadata": {},
     "output_type": "execute_result"
    }
   ],
   "source": [
    "np.array([(e,w) for e,w in nx.get_edge_attributes(host_network,'weight').items() if w > 0])"
   ]
  },
  {
   "cell_type": "code",
   "execution_count": null,
   "metadata": {
    "collapsed": true
   },
   "outputs": [],
   "source": []
  }
 ],
 "metadata": {
  "kernelspec": {
   "display_name": "Python 3",
   "language": "python",
   "name": "python3"
  },
  "language_info": {
   "codemirror_mode": {
    "name": "ipython",
    "version": 3
   },
   "file_extension": ".py",
   "mimetype": "text/x-python",
   "name": "python",
   "nbconvert_exporter": "python",
   "pygments_lexer": "ipython3",
   "version": "3.6.2"
  }
 },
 "nbformat": 4,
 "nbformat_minor": 2
}
