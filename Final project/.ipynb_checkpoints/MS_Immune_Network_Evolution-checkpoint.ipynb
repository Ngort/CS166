{
 "cells": [
  {
   "cell_type": "code",
   "execution_count": 818,
   "metadata": {
    "collapsed": true
   },
   "outputs": [],
   "source": [
    "import numpy as np\n",
    "import networkx as nx\n",
    "import matplotlib.pyplot as plt\n",
    "import matplotlib\n",
    "\n",
    "from copy import deepcopy"
   ]
  },
  {
   "cell_type": "code",
   "execution_count": 950,
   "metadata": {},
   "outputs": [],
   "source": [
    "\n",
    "class Host:\n",
    "    def __init__(self):\n",
    "        self.n_nodes = 6\n",
    "        \n",
    "        self.network = nx.binomial_graph(directed=True, n=self.n_nodes,p=0.5)\n",
    "      \n",
    "        for node in self.network.nodes:\n",
    "            self.network.nodes[node]['active'] = 0.5\n",
    "\n",
    "\n",
    "        for u,v,e in self.network.edges(data=True):\n",
    "            e['weight'] = np.random.uniform(-1,1)\n",
    "\n",
    "        self.network.remove_edges_from([(0,n_nodes-1),(n_nodes-1,0)])\n",
    "        \n",
    "    \n",
    "    def update(self):\n",
    "        network_copy = deepcopy(self.network)\n",
    "\n",
    "        for node in self.network.nodes:\n",
    "            dP = 0\n",
    "            for n in self.network.predecessors(n=node):\n",
    "                weight = nx.get_edge_attributes(self.network,'weight')[(n,node)] \n",
    "                if weight > 0:\n",
    "                    dP += (1-self.network.node[node]['active'])*weight*self.network.node[n]['active']\n",
    "                elif weight < 0:\n",
    "                    dP += self.network.node[node]['active']*weight*self.network.node[n]['active']\n",
    "            \n",
    "            if np.isnan(dP):\n",
    "                print('NAN!')\n",
    "                print(nx.get_edge_attributes(self.network,'weight'))\n",
    "                print(nx.get_node_attributes(self.network,'active'))\n",
    "            \n",
    "            if network_copy.node[node]['active'] + dP > 1:\n",
    "                network_copy.node[node]['active'] = 1\n",
    "            elif network_copy.node[node]['active'] + dP < 0:\n",
    "                network_copy.node[node]['active'] = 0\n",
    "            else:\n",
    "                network_copy.node[node]['active'] += dP\n",
    "            \n",
    "            #network_copy.node[node]['active'] = min(1, network_copy.node[node]['active'] + dP) \n",
    "\n",
    "        self.network = network_copy\n",
    "    \n",
    "    \n",
    "    def fitness(self):\n",
    "        \"\"\"\n",
    "        formula for fitness\n",
    "        \"\"\"\n",
    "        pass\n",
    "        \n",
    "    def mutate(self):\n",
    "        pass\n",
    "    \n",
    "    \n",
    "    def visualize(self):\n",
    "        edges,weights = zip(*nx.get_edge_attributes(self.network,'weight').items())\n",
    "\n",
    "        activating = [e for e,w in nx.get_edge_attributes(self.network,'weight').items() if w > 0]\n",
    "        positive_weights = [round(w,1) for e,w in nx.get_edge_attributes(self.network,'weight').items() if w > 0]\n",
    "\n",
    "        deactivating = [e for e,w in nx.get_edge_attributes(self.network,'weight').items() if w < 0]\n",
    "        negative_weights = [round(w,1) for e,w in nx.get_edge_attributes(self.network,'weight').items() if w < 0]\n",
    "\n",
    "        active_ratios = list(nx.get_node_attributes(self.network,'active').values())\n",
    "\n",
    "        pos = nx.shell_layout(self.network)\n",
    "\n",
    "        graph_nodes = nx.draw_networkx_nodes(self.network, node_size=300, pos=pos, alpha=1, \n",
    "                               node_color= [a for a in active_ratios],\n",
    "                                            cmap='Greens', vmin=0, vmax=1.5)  \n",
    "\n",
    "        graph_act_edges =nx.draw_networkx_edges(self.network, edgelist=activating,\n",
    "                               pos=pos, width=[5*abs(w)+1 for w in positive_weights], arrowsize=20, edge_color= '#0055FF',\n",
    "                                alpha=1)\n",
    "\n",
    "        graph_deact_edges = nx.draw_networkx_edges(self.network, edgelist=deactivating,\n",
    "                               pos=pos, width=[5*abs(w)+1 for w in negative_weights], arrowsize=30, edge_color = '#FF0000',\n",
    "                                alpha=0.6, arrowstyle=matplotlib.patches.ArrowStyle(\"|-|\",widthA=0, widthB=0.3))\n",
    "        \n",
    "        if n_nodes == self.network.number_of_nodes():\n",
    "            letters = ['D']+(self.n_nodes-2)*['S']+['E'] \n",
    "        else:\n",
    "            n_added_signalers = self.network.number_of_nodes() - n_nodes\n",
    "            letters = ['D']+(self.n_nodes-2)*['S']+['E'] + n_added_signalers*['S']\n",
    "            \n",
    "        labels = dict(zip(self.network.nodes,letters))\n",
    "\n",
    "        nx.draw_networkx_labels(self.network, pos=pos, \n",
    "                               labels = labels)\n",
    "        nx.draw_networkx_edge_labels(self.network, font_color='#0055FF', label_pos=0.3, pos=pos, edge_labels=dict(zip(activating,positive_weights)))\n",
    "        nx.draw_networkx_edge_labels(self.network, font_color='#FF0000', label_pos = 0.3, pos=pos, edge_labels=dict(zip(deactivating,negative_weights)))\n",
    "        \n",
    "        graph_nodes.set_edgecolor('k')\n",
    "\n",
    "        for e in graph_act_edges+graph_deact_edges:\n",
    "            e.set_alpha(0.5)\n",
    "\n",
    "        plt.show()\n",
    "        \n",
    "        \n",
    "        \n",
    "        \n",
    "#         edges,weights = zip(*nx.get_edge_attributes(self.network,'weight').items())\n",
    "        \n",
    "#         letters = ['D']+(self.network.number_of_nodes()-2)*['S']+['E']\n",
    "#         labels = dict(zip(self.network.nodes,letters))\n",
    "        \n",
    "#         nx.draw(self.network, node_size=1000,\n",
    "#         with_labels=True, labels = labels,\n",
    "#         cmap= plt.cm.viridis, edge_color=weights,\n",
    "#        width=5) \n",
    "        \n",
    "        \n",
    "#         return np.exp(-self.network)"
   ]
  },
  {
   "cell_type": "code",
   "execution_count": null,
   "metadata": {
    "collapsed": true
   },
   "outputs": [],
   "source": []
  },
  {
   "cell_type": "code",
   "execution_count": 750,
   "metadata": {},
   "outputs": [
    {
     "data": {
      "image/png": "[encoded data removed]",
      "text/plain": [
       "<matplotlib.figure.Figure at 0x10a232470>"
      ]
     },
     "metadata": {},
     "output_type": "display_data"
    },
    {
     "data": {
      "text/plain": [
       "(0.8149397657840192,\n",
       " 0.22583397984913556,\n",
       " 0.04728553256151424,\n",
       " -0.07363687358914994,\n",
       " -0.2677129378582006,\n",
       " 0.43892933650378385,\n",
       " -0.04143337916760603,\n",
       " 0.5889204547907552,\n",
       " -0.528527852743311,\n",
       " 0.3053907319179556,\n",
       " -0.6273660013585456)"
      ]
     },
     "execution_count": 750,
     "metadata": {},
     "output_type": "execute_result"
    }
   ],
   "source": [
    "n_nodes = 6\n",
    "host_network = nx.binomial_graph(directed=True, n=n_nodes,p=0.5)\n",
    "\n",
    "#### initialize\n",
    "\n",
    "\n",
    "for node in host_network.nodes:\n",
    "    host_network.nodes[node]['active'] = 0.5\n",
    "\n",
    "\n",
    "for u,v,e in host_network.edges(data=True):\n",
    "    e['weight'] = np.random.uniform(-1,1)\n",
    "\n",
    "host_network.remove_edges_from([(0,n_nodes-1),(n_nodes-1,0)])\n",
    "\n",
    "\n",
    "\n",
    "\n",
    "#### visualize\n",
    "\n",
    "edges,weights = zip(*nx.get_edge_attributes(host_network,'weight').items())\n",
    "\n",
    "activating = [e for e,w in nx.get_edge_attributes(host_network,'weight').items() if w > 0]\n",
    "positive_weights = [round(w,1) for e,w in nx.get_edge_attributes(host_network,'weight').items() if w > 0]\n",
    "\n",
    "deactivating = [e for e,w in nx.get_edge_attributes(host_network,'weight').items() if w < 0]\n",
    "negative_weights = [round(w,1) for e,w in nx.get_edge_attributes(host_network,'weight').items() if w < 0]\n",
    "\n",
    "active_ratios = list(nx.get_node_attributes(host_network,'active').values())\n",
    "\n",
    "pos = nx.shell_layout(host_network)\n",
    "\n",
    "graph_nodes = nx.draw_networkx_nodes(host_network, node_size=300, pos=pos, alpha=1, \n",
    "                       node_color= [a for a in active_ratios],\n",
    "                                    cmap='Greens', vmin=0, vmax=1.5)  \n",
    "\n",
    "graph_act_edges =nx.draw_networkx_edges(host_network, edgelist=activating,\n",
    "                       pos=pos, width=[10*abs(w)+1 for w in positive_weights], arrowsize=20, edge_color= '#0055FF',\n",
    "                        #edge_cmap= plt.cm.Blues, vmax=1, edge_color=positive_weights,\n",
    "                        alpha=1)\n",
    "\n",
    "graph_deact_edges = nx.draw_networkx_edges(host_network, edgelist=deactivating,\n",
    "                       pos=pos, width=[10*abs(w)+1 for w in negative_weights], arrowsize=30, edge_color = '#FF0000',\n",
    "                        #edge_cmap= plt.cm.Reds, edge_color=negative_weights,\n",
    "                        alpha=0.6, arrowstyle=matplotlib.patches.ArrowStyle(\"|-|\",widthA=0, widthB=0.3))\n",
    "\n",
    "letters = ['D']+(host_network.number_of_nodes()-2)*['S']+['E']\n",
    "labels = dict(zip(host_network.nodes,letters))\n",
    "\n",
    "nx.draw_networkx_labels(host_network, pos=pos, \n",
    "                       labels = labels)\n",
    "nx.draw_networkx_edge_labels(host_network, font_color='#0055FF', label_pos=0.3, pos=pos, edge_labels=dict(zip(activating,positive_weights)))\n",
    "nx.draw_networkx_edge_labels(host_network, font_color='#FF0000', label_pos = 0.3, pos=pos, edge_labels=dict(zip(deactivating,negative_weights)))\n",
    "\n",
    "\n",
    "#ax = plt.gca() # to get the current axis\n",
    "\n",
    "graph_nodes.set_edgecolor('k')\n",
    "\n",
    "for e in graph_act_edges+graph_deact_edges:\n",
    "    e.set_alpha(0.5)\n",
    "\n",
    "plt.show()\n",
    "\n",
    "weights"
   ]
  },
  {
   "cell_type": "code",
   "execution_count": 728,
   "metadata": {},
   "outputs": [
    {
     "data": {
      "text/plain": [
       "[0.5, 0.5, 0.5, 0.5, 0.5, 0.5]"
      ]
     },
     "execution_count": 728,
     "metadata": {},
     "output_type": "execute_result"
    }
   ],
   "source": [
    "#nx.get_edge_attributes(host_network,'weight')\n",
    "list(nx.get_node_attributes(host_network,'active').values())\n",
    "#[node for node in host_network.nodes]\n",
    "#list(host_network.nodes)[0]"
   ]
  },
  {
   "cell_type": "code",
   "execution_count": 171,
   "metadata": {},
   "outputs": [
    {
     "ename": "TypeError",
     "evalue": "'int' object is not iterable",
     "output_type": "error",
     "traceback": [
      "\u001b[0;31m---------------------------------------------------------------------------\u001b[0m",
      "\u001b[0;31mTypeError\u001b[0m                                 Traceback (most recent call last)",
      "\u001b[0;32m<ipython-input-171-5bb8f39ab3cf>\u001b[0m in \u001b[0;36m<module>\u001b[0;34m()\u001b[0m\n\u001b[0;32m----> 1\u001b[0;31m \u001b[0mhost_network\u001b[0m\u001b[0;34m.\u001b[0m\u001b[0mremove_edges_from\u001b[0m\u001b[0;34m(\u001b[0m\u001b[0mn_nodes\u001b[0m\u001b[0;34m-\u001b[0m\u001b[0;36m1\u001b[0m\u001b[0;34m)\u001b[0m\u001b[0;34m\u001b[0m\u001b[0m\n\u001b[0m",
      "\u001b[0;32m~/anaconda3/lib/python3.6/site-packages/networkx/classes/digraph.py\u001b[0m in \u001b[0;36mremove_edges_from\u001b[0;34m(self, ebunch)\u001b[0m\n\u001b[1;32m    753\u001b[0m         \u001b[0;34m>>\u001b[0m\u001b[0;34m>\u001b[0m \u001b[0mG\u001b[0m\u001b[0;34m.\u001b[0m\u001b[0mremove_edges_from\u001b[0m\u001b[0;34m(\u001b[0m\u001b[0mebunch\u001b[0m\u001b[0;34m)\u001b[0m\u001b[0;34m\u001b[0m\u001b[0m\n\u001b[1;32m    754\u001b[0m         \"\"\"\n\u001b[0;32m--> 755\u001b[0;31m         \u001b[0;32mfor\u001b[0m \u001b[0me\u001b[0m \u001b[0;32min\u001b[0m \u001b[0mebunch\u001b[0m\u001b[0;34m:\u001b[0m\u001b[0;34m\u001b[0m\u001b[0m\n\u001b[0m\u001b[1;32m    756\u001b[0m             \u001b[0mu\u001b[0m\u001b[0;34m,\u001b[0m \u001b[0mv\u001b[0m \u001b[0;34m=\u001b[0m \u001b[0me\u001b[0m\u001b[0;34m[\u001b[0m\u001b[0;34m:\u001b[0m\u001b[0;36m2\u001b[0m\u001b[0;34m]\u001b[0m  \u001b[0;31m# ignore edge data\u001b[0m\u001b[0;34m\u001b[0m\u001b[0m\n\u001b[1;32m    757\u001b[0m             \u001b[0;32mif\u001b[0m \u001b[0mu\u001b[0m \u001b[0;32min\u001b[0m \u001b[0mself\u001b[0m\u001b[0;34m.\u001b[0m\u001b[0m_succ\u001b[0m \u001b[0;32mand\u001b[0m \u001b[0mv\u001b[0m \u001b[0;32min\u001b[0m \u001b[0mself\u001b[0m\u001b[0;34m.\u001b[0m\u001b[0m_succ\u001b[0m\u001b[0;34m[\u001b[0m\u001b[0mu\u001b[0m\u001b[0;34m]\u001b[0m\u001b[0;34m:\u001b[0m\u001b[0;34m\u001b[0m\u001b[0m\n",
      "\u001b[0;31mTypeError\u001b[0m: 'int' object is not iterable"
     ]
    }
   ],
   "source": [
    "host_network.remove_edges_from(n_nodes-1)"
   ]
  },
  {
   "cell_type": "code",
   "execution_count": 165,
   "metadata": {},
   "outputs": [
    {
     "data": {
      "text/plain": [
       "[]"
      ]
     },
     "execution_count": 165,
     "metadata": {},
     "output_type": "execute_result"
    }
   ],
   "source": [
    "list(host_network.neighbors(4))"
   ]
  },
  {
   "cell_type": "code",
   "execution_count": 331,
   "metadata": {},
   "outputs": [
    {
     "data": {
      "image/png": "[encoded data removed]",
      "text/plain": [
       "<matplotlib.figure.Figure at 0x109032cc0>"
      ]
     },
     "metadata": {},
     "output_type": "display_data"
    }
   ],
   "source": [
    "G = nx.DiGraph()\n",
    "G.add_nodes_from([0,1])\n",
    "pos = nx.circular_layout(G)\n",
    "nx.draw_networkx_nodes(G, pos, node_color = 'r', node_size = 100, alpha = 1)\n",
    "nx.draw_networkx_edges(G, pos, edgelist = [(0,1)], width = 2, alpha = 0.5, edge_color='b')\n",
    "nx.draw_networkx_edges(G, pos, edgelist= [(1,0)], width = 1, alpha = 1)\n",
    "plt.axis('off')\n",
    "plt.show() "
   ]
  },
  {
   "cell_type": "code",
   "execution_count": 352,
   "metadata": {},
   "outputs": [
    {
     "data": {
      "text/plain": [
       "[(1, 3), (2, 4), (3, 0), (4, 3)]"
      ]
     },
     "execution_count": 352,
     "metadata": {},
     "output_type": "execute_result"
    }
   ],
   "source": [
    "#list(host_network.edges.data())\n",
    "\n",
    "activating = [(u,v) for u,v,d in host_network.edges.data() if d['weight'] > 0]\n",
    "deactivating =[(u,v) for u,v,d in host_network.edges.data() if d['weight'] < 0]"
   ]
  },
  {
   "cell_type": "code",
   "execution_count": 390,
   "metadata": {},
   "outputs": [],
   "source": [
    "activating = [(e,w) for e,w in nx.get_edge_attributes(host_network,'weight').items() if w > 0]\n",
    "deactivating = [(e,w) for e,w in nx.get_edge_attributes(host_network,'weight').items() if w < 0]\n",
    "\n",
    "positive_weights = \n",
    "negative_weights = "
   ]
  },
  {
   "cell_type": "code",
   "execution_count": 406,
   "metadata": {},
   "outputs": [
    {
     "data": {
      "text/plain": [
       "array([[(2, 0), 0.5],\n",
       "       [(2, 3), 0.5],\n",
       "       [(4, 2), 0.5],\n",
       "       [(4, 3), 0.5]], dtype=object)"
      ]
     },
     "execution_count": 406,
     "metadata": {},
     "output_type": "execute_result"
    }
   ],
   "source": [
    "np.array([(e,w) for e,w in nx.get_edge_attributes(host_network,'weight').items() if w > 0])"
   ]
  },
  {
   "cell_type": "code",
   "execution_count": 878,
   "metadata": {
    "collapsed": true
   },
   "outputs": [],
   "source": []
  },
  {
   "cell_type": "code",
   "execution_count": 964,
   "metadata": {},
   "outputs": [
    {
     "data": {
      "image/png": "[encoded data removed]",
      "text/plain": [
       "<matplotlib.figure.Figure at 0x10256b828>"
      ]
     },
     "metadata": {},
     "output_type": "display_data"
    },
    {
     "data": {
      "text/plain": [
       "{0: 0.9999999999999999,\n",
       " 1: 1.0,\n",
       " 2: 1.0,\n",
       " 3: 0.4988254411181427,\n",
       " 4: 0.9991518532844252,\n",
       " 5: 0.0}"
      ]
     },
     "execution_count": 964,
     "metadata": {},
     "output_type": "execute_result"
    }
   ],
   "source": [
    "net = Host()\n",
    "for _ in range(1000):\n",
    "    net.update()\n",
    "\n",
    "net.visualize()\n",
    "\n",
    "nx.get_node_attributes(net.network,'active')"
   ]
  },
  {
   "cell_type": "code",
   "execution_count": 940,
   "metadata": {},
   "outputs": [
    {
     "ename": "NameError",
     "evalue": "name 'self' is not defined",
     "output_type": "error",
     "traceback": [
      "\u001b[0;31m---------------------------------------------------------------------------\u001b[0m",
      "\u001b[0;31mNameError\u001b[0m                                 Traceback (most recent call last)",
      "\u001b[0;32m<ipython-input-940-6810d306b6ab>\u001b[0m in \u001b[0;36m<module>\u001b[0;34m()\u001b[0m\n\u001b[0;32m----> 1\u001b[0;31m \u001b[0mnetwork_copy\u001b[0m \u001b[0;34m=\u001b[0m \u001b[0mdeepcopy\u001b[0m\u001b[0;34m(\u001b[0m\u001b[0mself\u001b[0m\u001b[0;34m.\u001b[0m\u001b[0mnetwork\u001b[0m\u001b[0;34m)\u001b[0m\u001b[0;34m\u001b[0m\u001b[0m\n\u001b[0m\u001b[1;32m      2\u001b[0m \u001b[0;34m\u001b[0m\u001b[0m\n\u001b[1;32m      3\u001b[0m \u001b[0;32mfor\u001b[0m \u001b[0mnode\u001b[0m \u001b[0;32min\u001b[0m \u001b[0mself\u001b[0m\u001b[0;34m.\u001b[0m\u001b[0mnetwork\u001b[0m\u001b[0;34m.\u001b[0m\u001b[0mnodes\u001b[0m\u001b[0;34m:\u001b[0m\u001b[0;34m\u001b[0m\u001b[0m\n\u001b[1;32m      4\u001b[0m     \u001b[0mdP\u001b[0m \u001b[0;34m=\u001b[0m \u001b[0;36m0\u001b[0m\u001b[0;34m\u001b[0m\u001b[0m\n\u001b[1;32m      5\u001b[0m     \u001b[0;32mfor\u001b[0m \u001b[0mn\u001b[0m \u001b[0;32min\u001b[0m \u001b[0mself\u001b[0m\u001b[0;34m.\u001b[0m\u001b[0mnetwork\u001b[0m\u001b[0;34m.\u001b[0m\u001b[0mpredecessors\u001b[0m\u001b[0;34m(\u001b[0m\u001b[0mn\u001b[0m\u001b[0;34m=\u001b[0m\u001b[0mnode\u001b[0m\u001b[0;34m)\u001b[0m\u001b[0;34m:\u001b[0m\u001b[0;34m\u001b[0m\u001b[0m\n",
      "\u001b[0;31mNameError\u001b[0m: name 'self' is not defined"
     ]
    }
   ],
   "source": [
    "network_copy = deepcopy(self.network)\n",
    "\n",
    "for node in self.network.nodes:\n",
    "    dP = 0\n",
    "    for n in self.network.predecessors(n=node):\n",
    "        weight = nx.get_edge_attributes(self.network,'weight')[(n,node)] \n",
    "        if weight > 0:\n",
    "            dP += (1-self.network.node[node]['active'])*weight*self.network.node[n]['active']\n",
    "        else:\n",
    "            dP += self.network.node[node]['active']*weight*self.network.node[n]['active']\n",
    "    \n",
    "    network_copy.node[node]['active'] += dP\n",
    "\n",
    "self.network = network_copy\n",
    "    #self.network.node[node]['active'] += dP\n",
    "    \n",
    "    \n",
    "    #print(n)\n",
    "    #print(nx.get_edge_attributes(self.network,'weight')[(n,5)])\n",
    "    \n",
    "#self.network.s"
   ]
  },
  {
   "cell_type": "code",
   "execution_count": 819,
   "metadata": {},
   "outputs": [
    {
     "name": "stdout",
     "output_type": "stream",
     "text": [
      "0\n",
      "1\n",
      "2\n",
      "3\n",
      "4\n",
      "5\n"
     ]
    }
   ],
   "source": [
    "#net.network.get_edge_attribute('weight')\n",
    "#net.network.predecessors(n=5)\n",
    "\n",
    "#activating\n",
    "\n",
    "for node in net.network.nodes:\n",
    "    print(node)"
   ]
  },
  {
   "cell_type": "code",
   "execution_count": null,
   "metadata": {
    "collapsed": true
   },
   "outputs": [],
   "source": []
  }
 ],
 "metadata": {
  "kernelspec": {
   "display_name": "Python 3",
   "language": "python",
   "name": "python3"
  },
  "language_info": {
   "codemirror_mode": {
    "name": "ipython",
    "version": 3
   },
   "file_extension": ".py",
   "mimetype": "text/x-python",
   "name": "python",
   "nbconvert_exporter": "python",
   "pygments_lexer": "ipython3",
   "version": "3.6.2"
  }
 },
 "nbformat": 4,
 "nbformat_minor": 2
}
