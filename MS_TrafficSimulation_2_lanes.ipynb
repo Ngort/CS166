{
 "cells": [
  {
   "cell_type": "code",
   "execution_count": 1,
   "metadata": {
    "collapsed": true
   },
   "outputs": [],
   "source": [
    "%matplotlib inline\n",
    "import matplotlib.pyplot as plt\n",
    "import matplotlib.animation as anim\n",
    "import matplotlib.colors as col\n",
    "import numpy as np\n",
    "import scipy as sp\n",
    "import pandas as pd\n",
    "import time\n",
    "\n",
    "\n"
   ]
  },
  {
   "cell_type": "code",
   "execution_count": 212,
   "metadata": {},
   "outputs": [],
   "source": [
    "class TrafficSimulation():\n",
    "    \n",
    "    def __init__(self,road_size,density):\n",
    "        global cars, sorted_ids\n",
    "        \n",
    "        self.road_size = road_size\n",
    "        self.density = density\n",
    "        self.time_step = 0\n",
    "        \n",
    "        self.n_cars = round(self.road_size * self.density)\n",
    "        self.road = -1*np.ones(road_size)\n",
    "        \n",
    "        self.initial_positions = np.random.choice(range(self.road_size),self.n_cars,replace=False)\n",
    "        \n",
    "        for p in self.initial_positions:\n",
    "            self.road[p] = 1\n",
    "    \n",
    "    \n",
    "        cars = [Car(id=i, position = initial_positions[i],vmax=5) for i in range(self.n_cars)]\n",
    "        sorted_ids = np.array([car.id for car in sorted(cars, key = lambda x : x.position)])\n",
    "        \n",
    "    def draw(self):\n",
    "        \n",
    "        # 209,201,109;\n",
    "        # 191,216,255;\n",
    "        # 131,145,255;\n",
    "        # 80,92,205;\n",
    "        # 38,57,103]\n",
    "        \n",
    "        C = np.array([[255,255,255],\n",
    "            [235,198,83],\n",
    "            [136,230,255],\n",
    "            [0,200,255],\n",
    "            [0,145,255],\n",
    "            [0,92,205],\n",
    "            [0,57,103]])\n",
    "        \n",
    "        cm = col.ListedColormap(C/255.0)\n",
    "        \n",
    "        self.fig, self.bars = plt.subplots(1, figsize=(15,7))\n",
    "        self.bars.cla()\n",
    "        im = self.bars.imshow(self.road.reshape(1,self.road.shape[0]),vmin = -1, vmax = 5, cmap = cm, interpolation='none')# plt.cm.binary)\n",
    "        self.bars.axis('image')\n",
    "        self.bars.get_yaxis().set_visible(False)\n",
    "        self.bars.set_xticks(range(0,self.road.shape[0]+1,2))\n",
    "        self.bars.set_title('t = ' + str(self.time_step)) \n",
    "        \n",
    "        if self.time_step == 0:\n",
    "            cbaxes = self.fig.add_axes([0, 0.7, 0.8, 0.02]) \n",
    "            cb = plt.colorbar(self.bars.pcolor(self.road.reshape(1,self.road.shape[0]),vmin = -1, vmax = 5, cmap = cm)# plt.cm.binary)\n",
    "            , cax = cbaxes, orientation = 'horizontal')  \n",
    "        \n",
    "        \n",
    "        self.fig.subplots_adjust(left=0)\n",
    "\n",
    "\n",
    "    def update_simulation(self):\n",
    "        \n",
    "        self.road.fill(-1)\n",
    "        \n",
    "        self.time_step += 1\n",
    "        \n",
    "        for car in cars:\n",
    "            car.update_panorama()\n",
    "            car.update_v()\n",
    "            car.update_position()\n",
    "\n",
    "            self.road[car.position] = car.v\n",
    "        \n",
    "        \n",
    "        \n",
    "        \n",
    "        \n",
    "\n",
    "class Car:\n",
    "    \n",
    "    def __init__(self, id, position, vmax, p_slow = 0.5):\n",
    "        self.id = id\n",
    "        self.position = position\n",
    "        self.p_slow = p_slow\n",
    "        \n",
    "        self.back_car = -1\n",
    "        \n",
    "        self.front_car = -1\n",
    "        \n",
    "        self.v = 1\n",
    "        self.lane = 1\n",
    "        self.vmax = vmax\n",
    "        \n",
    "        \n",
    "    def update_panorama(self):\n",
    "        road_rank = np.where(sorted_ids == self.id)[0]\n",
    "        self.front_car = sorted_ids[(road_rank+1) % sim.n_cars][0]\n",
    "        \n",
    "        \n",
    "        \n",
    "        self.back_car = sorted_ids[(road_rank-1) % sim.n_cars]\n",
    "        \n",
    "        if cars[self.front_car].position > self.position:\n",
    "            self.front_gap = cars[self.front_car].position - self.position - 1\n",
    "        else:\n",
    "            self.front_gap = sim.road_size + (cars[self.front_car].position - self.position) - 1\n",
    "        \n",
    "        \n",
    "        \n",
    "    def update_v(self):\n",
    "        if self.v < self.vmax: # rule 1\n",
    "            self.v += 1\n",
    "        \n",
    "        if self.v > self.front_gap: # rule 2\n",
    "            self.v = self.front_gap\n",
    "        \n",
    "        if self.v > 0 and np.random.random() < self.p_slow: #rule 3\n",
    "            self.v -= 1\n",
    "            \n",
    "    \n",
    "    def update_position(self):   \n",
    "        self.position = (self.position + self.v) % sim.road_size\n",
    "        \n",
    "        \n",
    "        \n",
    "        #if cars[self.front_car].\n",
    "        \n",
    "    def change_lane(self):\n",
    "        pass\n",
    "\n"
   ]
  },
  {
   "cell_type": "code",
   "execution_count": 156,
   "metadata": {
    "scrolled": true
   },
   "outputs": [
    {
     "name": "stdout",
     "output_type": "stream",
     "text": [
      "[-1. -1. -1. -1. -1. -1. -1. -1. -1. -1. -1. -1. -1. -1. -1. -1. -1. -1.\n",
      " -1. -1. -1. -1. -1. -1. -1. -1. -1. -1. -1. -1. -1. -1. -1. -1. -1. -1.\n",
      " -1. -1. -1. -1. -1. -1. -1. -1. -1. -1. -1. -1. -1. -1. -1. -1. -1. -1.\n",
      " -1. -1. -1. -1. -1. -1. -1. -1. -1. -1. -1. -1. -1. -1. -1. -1. -1. -1.\n",
      " -1. -1. -1. -1. -1. -1. -1. -1. -1. -1. -1. -1. -1. -1. -1. -1. -1. -1.\n",
      " -1. -1. -1. -1. -1. -1. -1. -1. -1. -1.]\n",
      "[-1. -1.  1. -1. -1. -1. -1.  2. -1. -1. -1.  0.  0. -1.  1. -1.  1. -1.\n",
      " -1. -1. -1. -1.  0.  0. -1.  1.  0.  0.  0. -1.  1. -1.  1. -1.  2. -1.\n",
      "  0. -1.  0. -1. -1. -1.  2. -1. -1. -1.  1. -1.  1.  0. -1.  1. -1.  2.\n",
      " -1. -1.  2. -1.  0. -1.  1. -1. -1. -1.  1. -1. -1. -1. -1. -1. -1. -1.\n",
      " -1. -1.  2.  1. -1. -1.  1. -1. -1. -1. -1.  2. -1.  1. -1. -1. -1. -1.\n",
      "  0.  0.  0.  0. -1.  0.  0.  0. -1.  1.]\n",
      "[-1.  2.  1. -1.  2. -1. -1.  2. -1.  2. -1.  0.  0.  1.  1.  1.  1. -1.\n",
      "  2. -1. -1. -1.  0.  1.  1.  0.  0.  0.  0.  1.  0. -1.  1.  1.  2.  1.\n",
      "  0.  1.  0.  1. -1. -1.  2. -1. -1.  3.  0. -1.  0.  0.  1.  1.  1.  2.\n",
      " -1.  2.  0. -1.  0. -1.  1. -1.  2. -1.  1.  1. -1. -1. -1. -1. -1. -1.\n",
      " -1. -1.  2.  1. -1.  2.  1.  1. -1. -1. -1.  2. -1.  1.  3.  2. -1. -1.\n",
      "  0.  0.  0.  0. -1.  0.  0.  0.  1.  1.]\n",
      "[-1.  2.  1.  2.  2. -1. -1.  3. -1.  2.  1.  0.  0.  1.  1.  2.  1. -1.\n",
      "  2. -1. -1.  3.  0.  0.  0.  0.  0.  0.  1.  0.  0. -1.  1.  1.  1.  0.\n",
      "  0.  1.  0.  2.  1. -1.  2. -1. -1.  0.  0. -1.  0.  1.  0.  1.  1.  1.\n",
      " -1.  0.  0. -1.  0. -1.  1. -1.  2. -1.  2.  1.  1. -1. -1. -1. -1. -1.\n",
      " -1. -1.  2.  1.  1.  2.  1.  2. -1.  2. -1.  2. -1.  1.  3.  1.  1. -1.\n",
      "  0.  0.  0.  0.  1.  0.  0.  0.  1.  1.]\n",
      "[ 1.  2.  1.  2.  2.  2. -1.  3.  1.  2.  0.  0.  1.  1.  1.  2.  1.  1.\n",
      "  2. -1. -1.  0.  0.  0.  0.  0.  0.  0.  0.  0.  0.  1.  1.  1.  1.  1.\n",
      "  1.  1.  0.  2.  1.  1.  2. -1. -1.  0.  1.  1.  0.  0.  0.  1.  1.  0.\n",
      " -1.  0.  0.  1.  0.  1.  1. -1.  2. -1.  2.  1.  2. -1.  2. -1. -1. -1.\n",
      " -1. -1.  2.  1.  1.  2.  2.  2. -1.  2. -1.  2.  3.  1.  3.  1.  1.  1.\n",
      "  0.  0.  0.  1.  0.  0.  0.  0.  1.  1.]\n"
     ]
    }
   ],
   "source": [
    "road_size = 100\n",
    "density = 0.4\n",
    "n_cars = round(road_size * density)\n",
    "\n",
    "road = -1*np.ones(road_size)\n",
    "\n",
    "initial_positions = np.random.choice(range(road_size),n_cars,replace=False)\n",
    "\n",
    "cars = [Car(id=i, position= initial_positions[i],vmax=5) for i in range(n_cars)]\n",
    "sorted_ids = np.array([car.id for car in sorted(cars, key = lambda x : x.position)])\n",
    "\n",
    "\n",
    "\n",
    "print(road)\n",
    "\n",
    "for t in range(4):\n",
    "    for car in cars:\n",
    "        car.update_panorama()\n",
    "        car.update_v()\n",
    "        car.update_position()\n",
    "\n",
    "        road[car.position] = car.v\n",
    "\n",
    "    print(road)\n",
    "\n",
    "\n",
    "\n",
    "\n",
    "# for i,j in enumerate(sorted_ids):\n",
    "#     cars[j].front_car = sorted_ids[(i+1) % n_cars]\n",
    "#     cars[j].back_car = sorted_ids[(i-1) % n_cars]\n",
    "\n",
    "\n",
    "#     if cars[cars[j].front_car].position > cars[j].position:\n",
    "#         cars[j].front_gap = cars[cars[j].front_car].position - cars[j].position - 1\n",
    "#     else:\n",
    "#         cars[j].front_gap = road_size + (cars[cars[j].front_car].position - cars[j].position) - 1\n",
    "    \n",
    "\n",
    "#     road[cars[j].position] = cars[j].v\n",
    "    \n",
    "# print(road)\n",
    "    "
   ]
  },
  {
   "cell_type": "code",
   "execution_count": 214,
   "metadata": {},
   "outputs": [
    {
     "data": {
      "image/png": "[encoded data removed]",
      "text/plain": [
       "<matplotlib.figure.Figure at 0x10ba56ba8>"
      ]
     },
     "metadata": {},
     "output_type": "display_data"
    },
    {
     "data": {
      "image/png": "[encoded data removed]",
      "text/plain": [
       "<matplotlib.figure.Figure at 0x10baaca58>"
      ]
     },
     "metadata": {},
     "output_type": "display_data"
    },
    {
     "data": {
      "image/png": "[encoded data removed]",
      "text/plain": [
       "<matplotlib.figure.Figure at 0x10534a9b0>"
      ]
     },
     "metadata": {},
     "output_type": "display_data"
    },
    {
     "data": {
      "image/png": "[encoded data removed]",
      "text/plain": [
       "<matplotlib.figure.Figure at 0x10c0c6978>"
      ]
     },
     "metadata": {},
     "output_type": "display_data"
    },
    {
     "data": {
      "image/png": "[encoded data removed]",
      "text/plain": [
       "<matplotlib.figure.Figure at 0x10c1cecc0>"
      ]
     },
     "metadata": {},
     "output_type": "display_data"
    },
    {
     "data": {
      "image/png": "[encoded data removed]",
      "text/plain": [
       "<matplotlib.figure.Figure at 0x10b967b38>"
      ]
     },
     "metadata": {},
     "output_type": "display_data"
    }
   ],
   "source": [
    "sim = TrafficSimulation(road_size = 100,density = 0.1)\n",
    "sim.draw()\n",
    "sim.update_simulation()\n",
    "sim.draw()\n",
    "sim.update_simulation()\n",
    "sim.draw()\n",
    "sim.update_simulation()\n",
    "sim.draw()\n",
    "sim.update_simulation()\n",
    "sim.draw()\n",
    "sim.update_simulation()\n",
    "sim.draw()"
   ]
  },
  {
   "cell_type": "code",
   "execution_count": 102,
   "metadata": {},
   "outputs": [
    {
     "data": {
      "text/plain": [
       "(array([24]),)"
      ]
     },
     "execution_count": 102,
     "metadata": {},
     "output_type": "execute_result"
    }
   ],
   "source": [
    "np.where(sorted_ids == cars[0].id)"
   ]
  },
  {
   "cell_type": "code",
   "execution_count": 100,
   "metadata": {},
   "outputs": [
    {
     "data": {
      "text/plain": [
       "array([13, 14, 12,  2, 19,  1, 39, 27, 31,  3, 15, 16, 32, 29, 18, 23, 20,\n",
       "       11, 10, 36, 17, 34, 21, 25,  0, 22, 30,  9,  6, 37,  4, 38, 28,  7,\n",
       "       24, 33, 26,  5,  8, 35])"
      ]
     },
     "execution_count": 100,
     "metadata": {},
     "output_type": "execute_result"
    }
   ],
   "source": []
  },
  {
   "cell_type": "code",
   "execution_count": 184,
   "metadata": {},
   "outputs": [],
   "source": [
    "?np.ndarray.fill"
   ]
  },
  {
   "cell_type": "code",
   "execution_count": null,
   "metadata": {
    "collapsed": true
   },
   "outputs": [],
   "source": []
  }
 ],
 "metadata": {
  "kernelspec": {
   "display_name": "Python 3",
   "language": "python",
   "name": "python3"
  },
  "language_info": {
   "codemirror_mode": {
    "name": "ipython",
    "version": 3
   },
   "file_extension": ".py",
   "mimetype": "text/x-python",
   "name": "python",
   "nbconvert_exporter": "python",
   "pygments_lexer": "ipython3",
   "version": "3.6.2"
  }
 },
 "nbformat": 4,
 "nbformat_minor": 2
}
