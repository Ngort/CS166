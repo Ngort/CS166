{
 "cells": [
  {
   "cell_type": "code",
   "execution_count": 1083,
   "metadata": {},
   "outputs": [],
   "source": [
    "%matplotlib inline\n",
    "import matplotlib.pyplot as plt\n",
    "import matplotlib.animation as anim\n",
    "import matplotlib.colors as col\n",
    "import numpy as np\n",
    "import scipy as sp\n",
    "import pandas as pd\n",
    "import time\n",
    "\n",
    "from bisect import bisect_left\n",
    "from copy import deepcopy"
   ]
  },
  {
   "cell_type": "markdown",
   "metadata": {},
   "source": [
    "## To do:\n",
    "\n",
    "* Fix cars fusing from different lanes"
   ]
  },
  {
   "cell_type": "code",
   "execution_count": 1112,
   "metadata": {},
   "outputs": [],
   "source": [
    "class TrafficSimulation():\n",
    "    \n",
    "    def __init__(self,road_size,lanes,density, p_change = 1):\n",
    "        global cars\n",
    "        \n",
    "        self.road_size = road_size\n",
    "        self.density = density\n",
    "        self.time_step = 0\n",
    "        self.lanes = lanes\n",
    "        self.n_cars = round(self.road_size * self.density)\n",
    "        self.road = -1*np.ones((lanes,road_size))\n",
    "        self.states = []\n",
    "        self.p_change = p_change\n",
    "        \n",
    "        self.initial_positions = np.random.choice(range(self.road_size),self.n_cars,replace=False)\n",
    "            \n",
    "        cars = [Car(id=i, position = np.array([lanes-1,initial_positions[i]]),vmax=5, p_slow = 0) for i in range(self.n_cars)]\n",
    "        \n",
    "        for car in cars:\n",
    "            self.road[tuple(car.position)] = car.v\n",
    "        \n",
    "        \n",
    "        self.car_positions = []\n",
    "        for l in range(self.lanes):\n",
    "            #self.car_positions.append({})\n",
    "            cars_in_a_lane = list(filter(lambda x : x.position[0] == l, cars))\n",
    "            self.car_positions.append([car.position[1] for car in sorted(cars_in_a_lane, key = lambda x : x.position[1])])\n",
    "\n",
    "        \n",
    "    def draw(self):\n",
    "        \n",
    "        \n",
    "        C = np.array([[255,255,255],\n",
    "            [235,198,83],\n",
    "            [136,230,255],\n",
    "            [0,200,255],\n",
    "            [0,145,255],\n",
    "            [0,92,205],\n",
    "            [0,57,103]])\n",
    "        \n",
    "        cm = col.ListedColormap(C/255.0)\n",
    "        \n",
    "        self.fig, self.bars = plt.subplots(1, figsize=(15,7))\n",
    "        self.bars.cla()\n",
    "        im = self.bars.imshow(self.road,vmin = -1, vmax = 5, cmap = cm, interpolation='none')# plt.cm.binary)\n",
    "        self.bars.axis('image')\n",
    "        \n",
    "        if self.lanes <= 3: self.bars.get_yaxis().set_visible(False)\n",
    "        else: self.bars.set_yticks(range(0,self.road.shape[0]))\n",
    "        self.bars.set_xticks(range(0,self.road.shape[1]+1,2))\n",
    "        self.bars.set_title('t = ' + str(self.time_step)) \n",
    "        \n",
    "        if self.time_step == 0:\n",
    "            cbaxes = self.fig.add_axes([0, 0.7, 0.8, 0.02]) \n",
    "            cb = plt.colorbar(self.bars.imshow(self.road,vmin = -1, vmax = 5, cmap = cm)# plt.cm.binary)\n",
    "            , cax = cbaxes, orientation = 'horizontal')  \n",
    "        \n",
    "        \n",
    "        self.fig.subplots_adjust(left=0)\n",
    "        \n",
    "        \n",
    "    def animate(self):\n",
    "        global fig, frames, ani\n",
    "        fig, bars = plt.subplots(1, figsize=(9,7))\n",
    "        plt.yticks([])\n",
    "        plt.xticks(range(0,self.road.shape[0]+1,4))\n",
    "        plt.tight_layout()\n",
    "\n",
    "        C = np.array([[255,255,255],\n",
    "            [235,198,83],\n",
    "            [136,230,255],\n",
    "            [0,200,255],\n",
    "            [0,145,255],\n",
    "            [0,92,205],\n",
    "            [0,57,103]])\n",
    "        \n",
    "        cm = col.ListedColormap(C/255.0)\n",
    "        frames = [[plt.imshow(s,animated=True,cmap=cm)] for s in self.states]\n",
    "        ani = anim.ArtistAnimation(fig, frames, interval=50, blit=True,\n",
    "                                        repeat_delay=1000)\n",
    "        plt.show()\n",
    "        \n",
    "        return ani\n",
    "\n",
    "    def update_road_map(self):\n",
    "        self.car_positions = []\n",
    "        for l in range(self.lanes):\n",
    "            cars_in_a_lane = list(filter(lambda x : x.position[0] == l, cars))\n",
    "            self.car_positions.append([car.position[1] for car in sorted(cars_in_a_lane, key = lambda x : x.position[1])])\n",
    "    \n",
    "\n",
    "    def update_simulation(self):\n",
    "        \n",
    "        \n",
    "        self.time_step += 1\n",
    "\n",
    "        \n",
    "        \n",
    "        self.update_road_map()\n",
    "        \n",
    "        for car in cars:\n",
    "            car.change_lane()\n",
    "        \n",
    "        \n",
    "        self.update_road_map()\n",
    "        \n",
    "        for car in cars:\n",
    "            car.update_v()\n",
    "            #print(car.v)\n",
    "        \n",
    "        for car in cars:\n",
    "            car.update_position()\n",
    "        \n",
    "    \n",
    "        #self.draw()\n",
    "        \n",
    "        self.road.fill(-1)\n",
    "        for car in cars:\n",
    "            self.road[tuple(car.position)] = car.v\n",
    "        \n",
    "        self.states.append(deepcopy(self.road))\n",
    "        #print(self.states[-1] == self.states[0])\n",
    "        #print(self.states[-1][:,:10]) \n",
    "        \n",
    "        \n",
    "#################   \n",
    "        \n",
    "\n",
    "class Car:\n",
    "    \n",
    "    def __init__(self, id, position, vmax, p_slow = 0.5):\n",
    "        self.id = id\n",
    "        self.position = position\n",
    "        self.p_slow = p_slow\n",
    "\n",
    "        \n",
    "        self.v = 1\n",
    "        self.vmax = vmax\n",
    "        \n",
    "    def periodic_distance(self,x,y,size = sim.road_size):\n",
    "        return min(abs(x-y), x-y+size)\n",
    "        \n",
    "    def check_left(self):\n",
    "        if self.position[0] == 0:\n",
    "            return 0\n",
    "        \n",
    "        left_lane = self.position[0] - 1\n",
    "        \n",
    "        if len(sim.car_positions[left_lane]) == 0:\n",
    "            self.left_gap = sim.road_size - 1\n",
    "            return sim.road_size - 1\n",
    "        \n",
    "        front_idx = bisect_left(sim.car_positions[self.position[0]], self.position[1]) % len(sim.car_positions[self.position[0]])\n",
    "        front_position = sim.car_positions[self.position[0]][front_idx]\n",
    "        \n",
    "        left_idx = bisect_left(sim.car_positions[left_lane], self.position[1]) % len(sim.car_positions[left_lane])\n",
    "        left_position = sim.car_positions[left_lane][left_idx]\n",
    "        \n",
    "        back_idx = (left_idx - 1) % len(sim.car_positions[left_lane])\n",
    "        back_position = sim.car_positions[self.position[left_lane]][back_idx]\n",
    "        \n",
    "        self.front_gap = self.periodic_distance(front_position, self.position[1]) - 1\n",
    "        self.left_gap = self.periodic_distance(left_position, self.position[1]) -1\n",
    "        self.back_gap = self.periodic_distance(back_position, self.position[1]) -1\n",
    "        \n",
    "        if self.front_gap < self.v + 1 and self.left_gap > self.v + 1 and self.back_gap > self.vmax:\n",
    "            return self.left_gap - self.front_gap\n",
    "        else:\n",
    "            return 0\n",
    "        \n",
    "    \n",
    "    def check_right(self):\n",
    "        if self.position[0] == sim.lanes - 1:\n",
    "            self.right_gap = sim.road_size - 1\n",
    "            return 0\n",
    "        \n",
    "        right_lane = self.position[0] + 1\n",
    "        \n",
    "        if len(sim.car_positions[right_lane]) == 0:\n",
    "            return sim.road_size - 1\n",
    "        \n",
    "        front_idx = (bisect_left(sim.car_positions[self.position[0]], self.position[1]) + 1) % len(sim.car_positions[self.position[0]])\n",
    "        front_position = sim.car_positions[self.position[0]][front_idx]\n",
    "        \n",
    "        right_idx = bisect_left(sim.car_positions[right_lane], self.position[1]) % len(sim.car_positions[right_lane])\n",
    "        right_position = sim.car_positions[right_lane][right_idx]\n",
    "        \n",
    "        back_idx = (right_idx - 1) % (sim.road_size)\n",
    "        back_position = sim.car_positions[self.position[right_lane]][back_idx]\n",
    "        \n",
    "        self.front_gap = self.periodic_distance(front_position, self.position[1]) - 1\n",
    "        self.right_gap = self.periodic_distance(right_position, self.position[1]) -1\n",
    "        self.back_gap = self.periodic_distance(back_position, self.position[1]) -1\n",
    "        \n",
    "        if self.front_gap < self.v + 1 and self.right_gap > self.v + 1 and self.back_gap > self.vmax:\n",
    "            return self.right_gap - self.front_gap\n",
    "        else:\n",
    "            return 0\n",
    "                                     \n",
    "    \n",
    "    def change_lane(self):\n",
    "        right_gain = self.check_right()\n",
    "        left_gain = self.check_left()\n",
    "        \n",
    "        if right_gain == 0 and left_gain == 0:\n",
    "            return\n",
    "        elif right_gain > left_gain:\n",
    "            if np.random.random() < sim.p_change:\n",
    "                self.position += np.array([1,0])\n",
    "        elif left_gain > right_gain:\n",
    "            if np.random.random() < sim.p_change:\n",
    "                self.position -= np.array([1,0])\n",
    "        elif right_gain == left_gain:\n",
    "            if np.random.random() < sim.p_change:\n",
    "                self.position +=[np.random.choice([1,-1]),0]\n",
    "        \n",
    "        \n",
    "    def update_v(self):\n",
    "        front_idx = (bisect_left(sim.car_positions[self.position[0]], self.position[1]) + 1) % len(sim.car_positions[self.position[0]])\n",
    "        #print('front index: ',front_idx)\n",
    "        front_position = sim.car_positions[self.position[0]][front_idx]\n",
    "\n",
    "        #print('front position :',front_position,' self position:',self.position[1])\n",
    "        self.front_gap = self.periodic_distance(front_position, self.position[1]) - 1\n",
    "        \n",
    "        if self.front_gap < 0:\n",
    "            print('Car {} has crashed at position {} at time {}'.format(self.id, self.position, sim.time_step))\n",
    "        #print('gap :',self.front_gap)\n",
    "        \n",
    "        if self.v < self.vmax: # rule 1\n",
    "            self.v += 1\n",
    "        \n",
    "        if self.v > self.front_gap: # rule 2\n",
    "            self.v = self.front_gap\n",
    "        \n",
    "        if self.v > 0 and np.random.random() < self.p_slow: #rule 3\n",
    "            self.v -= 1\n",
    "    \n",
    "    def update_position(self):   \n",
    "        self.position = (self.position + np.array([0, self.v])) % sim.road_size\n",
    "        \n",
    "        front_idx = (bisect_left(sim.car_positions[self.position[0]], self.position[1]) + 1) % len(sim.car_positions[self.position[0]])\n",
    "        #print('front index: ',front_idx)\n",
    "        front_position = sim.car_positions[self.position[0]][front_idx]\n",
    "        \n",
    "        #print('front position :',front_position,' self position:',self.position[1])\n",
    "        self.front_gap = self.periodic_distance(front_position, self.position[1]) - 1\n",
    "        \n",
    "        #if cars[self.front_car].\n",
    "        \n",
    "        \n",
    "\n"
   ]
  },
  {
   "cell_type": "code",
   "execution_count": 1116,
   "metadata": {
    "scrolled": true
   },
   "outputs": [
    {
     "name": "stderr",
     "output_type": "stream",
     "text": [
      "/Users/nico/anaconda3/lib/python3.6/site-packages/matplotlib/pyplot.py:524: RuntimeWarning: More than 20 figures have been opened. Figures created through the pyplot interface (`matplotlib.pyplot.figure`) are retained until explicitly closed and may consume too much memory. (To control this warning, see the rcParam `figure.max_open_warning`).\n",
      "  max_open_warning, RuntimeWarning)\n"
     ]
    },
    {
     "data": {
      "image/png": "[encoded data removed]",
      "text/plain": [
       "<matplotlib.figure.Figure at 0x10e74dd30>"
      ]
     },
     "metadata": {},
     "output_type": "display_data"
    },
    {
     "data": {
      "image/png": "[encoded data removed]",
      "text/plain": [
       "<matplotlib.figure.Figure at 0x1108c97b8>"
      ]
     },
     "metadata": {},
     "output_type": "display_data"
    },
    {
     "data": {
      "image/png": "[encoded data removed]",
      "text/plain": [
       "<matplotlib.figure.Figure at 0x114fad2e8>"
      ]
     },
     "metadata": {},
     "output_type": "display_data"
    },
    {
     "data": {
      "image/png": "[encoded data removed]",
      "text/plain": [
       "<matplotlib.figure.Figure at 0x10bf6b710>"
      ]
     },
     "metadata": {},
     "output_type": "display_data"
    },
    {
     "data": {
      "image/png": "[encoded data removed]",
      "text/plain": [
       "<matplotlib.figure.Figure at 0x110266828>"
      ]
     },
     "metadata": {},
     "output_type": "display_data"
    },
    {
     "data": {
      "image/png": "[encoded data removed]",
      "text/plain": [
       "<matplotlib.figure.Figure at 0x10b4f7550>"
      ]
     },
     "metadata": {},
     "output_type": "display_data"
    },
    {
     "data": {
      "image/png": "[encoded data removed]",
      "text/plain": [
       "<matplotlib.figure.Figure at 0x10b7ef128>"
      ]
     },
     "metadata": {},
     "output_type": "display_data"
    },
    {
     "data": {
      "image/png": "[encoded data removed]",
      "text/plain": [
       "<matplotlib.figure.Figure at 0x10c1732e8>"
      ]
     },
     "metadata": {},
     "output_type": "display_data"
    },
    {
     "data": {
      "image/png": "[encoded data removed]",
      "text/plain": [
       "<matplotlib.figure.Figure at 0x10c8e6c18>"
      ]
     },
     "metadata": {},
     "output_type": "display_data"
    },
    {
     "data": {
      "image/png": "[encoded data removed]",
      "text/plain": [
       "<matplotlib.figure.Figure at 0x113d9ddd8>"
      ]
     },
     "metadata": {},
     "output_type": "display_data"
    },
    {
     "data": {
      "image/png": "[encoded data removed]",
      "text/plain": [
       "<matplotlib.figure.Figure at 0x10b6d0d30>"
      ]
     },
     "metadata": {},
     "output_type": "display_data"
    },
    {
     "data": {
      "image/png": "[encoded data removed]",
      "text/plain": [
       "<matplotlib.figure.Figure at 0x10ff4ba90>"
      ]
     },
     "metadata": {},
     "output_type": "display_data"
    },
    {
     "data": {
      "image/png": "[encoded data removed]",
      "text/plain": [
       "<matplotlib.figure.Figure at 0x10c860358>"
      ]
     },
     "metadata": {},
     "output_type": "display_data"
    },
    {
     "data": {
      "image/png": "[encoded data removed]",
      "text/plain": [
       "<matplotlib.figure.Figure at 0x10b4d8240>"
      ]
     },
     "metadata": {},
     "output_type": "display_data"
    },
    {
     "data": {
      "image/png": "[encoded data removed]",
      "text/plain": [
       "<matplotlib.figure.Figure at 0x10fe457b8>"
      ]
     },
     "metadata": {},
     "output_type": "display_data"
    },
    {
     "data": {
      "image/png": "[encoded data removed]",
      "text/plain": [
       "<matplotlib.figure.Figure at 0x105438cc0>"
      ]
     },
     "metadata": {},
     "output_type": "display_data"
    },
    {
     "data": {
      "image/png": "[encoded data removed]",
      "text/plain": [
       "<matplotlib.figure.Figure at 0x10babaf98>"
      ]
     },
     "metadata": {},
     "output_type": "display_data"
    },
    {
     "data": {
      "image/png": "[encoded data removed]",
      "text/plain": [
       "<matplotlib.figure.Figure at 0x113ed4940>"
      ]
     },
     "metadata": {},
     "output_type": "display_data"
    },
    {
     "data": {
      "image/png": "[encoded data removed]",
      "text/plain": [
       "<matplotlib.figure.Figure at 0x10b8e7a90>"
      ]
     },
     "metadata": {},
     "output_type": "display_data"
    },
    {
     "data": {
      "image/png": "[encoded data removed]",
      "text/plain": [
       "<matplotlib.figure.Figure at 0x10bb10da0>"
      ]
     },
     "metadata": {},
     "output_type": "display_data"
    },
    {
     "data": {
      "image/png": "[encoded data removed]",
      "text/plain": [
       "<matplotlib.figure.Figure at 0x110e7beb8>"
      ]
     },
     "metadata": {},
     "output_type": "display_data"
    },
    {
     "data": {
      "image/png": "[encoded data removed]",
      "text/plain": [
       "<matplotlib.figure.Figure at 0x1150de978>"
      ]
     },
     "metadata": {},
     "output_type": "display_data"
    }
   ],
   "source": [
    "sim = TrafficSimulation(road_size = 100,lanes=2,density = 0.2, p_change= 1)\n",
    "sim.draw()\n",
    "\n",
    "for _ in range(20):\n",
    "    sim.update_simulation()\n",
    "    sim.draw()\n",
    "\n",
    "\n",
    "    \n",
    "sim.animate()\n",
    "\n",
    "Writer = anim.writers['ffmpeg']\n",
    "writer = Writer(fps=10, metadata=dict(artist='Me'), bitrate=1800)\n",
    "ani.save('traffic2d_simulation.mp4',writer=writer)\n",
    "\n",
    "#print(sim.time_step,[(tuple(car.position),car.front_gap) for car in cars])\n",
    "    #print('\\n')\n",
    "    #sim.draw()"
   ]
  },
  {
   "cell_type": "code",
   "execution_count": 1047,
   "metadata": {},
   "outputs": [],
   "source": [
    "# sim = TrafficSimulation(road_size = 100,lanes=2,density = 0.4)\n",
    "# sim.draw()\n",
    "\n",
    "# for _ in range(20):\n",
    "#     sim.update_simulation()\n",
    "#     sim.draw()\n",
    "#     #print(sim.time_step,[(tuple(car.position),car.front_gap) for car in cars])\n",
    "#     #sim.draw()"
   ]
  },
  {
   "cell_type": "code",
   "execution_count": 1065,
   "metadata": {},
   "outputs": [
    {
     "data": {
      "image/png": "[encoded data removed]",
      "text/plain": [
       "<matplotlib.figure.Figure at 0x10b833048>"
      ]
     },
     "metadata": {},
     "output_type": "display_data"
    }
   ],
   "source": [
    "sim.update_simulation()\n",
    "sim.draw()"
   ]
  },
  {
   "cell_type": "code",
   "execution_count": 1080,
   "metadata": {},
   "outputs": [
    {
     "data": {
      "text/plain": [
       "array([[ True,  True,  True,  True,  True,  True,  True,  True,  True,\n",
       "         True,  True,  True,  True,  True,  True,  True,  True,  True,\n",
       "         True,  True,  True,  True,  True,  True,  True,  True,  True,\n",
       "         True,  True,  True,  True,  True,  True,  True,  True,  True,\n",
       "         True,  True,  True,  True,  True,  True,  True,  True,  True,\n",
       "         True,  True,  True,  True,  True,  True,  True,  True,  True,\n",
       "         True,  True,  True,  True,  True,  True,  True,  True,  True,\n",
       "         True,  True,  True,  True,  True,  True,  True,  True,  True,\n",
       "         True,  True,  True,  True,  True,  True,  True,  True,  True,\n",
       "         True,  True,  True,  True,  True,  True,  True,  True,  True,\n",
       "         True,  True,  True,  True,  True,  True,  True,  True,  True,\n",
       "         True],\n",
       "       [ True,  True,  True,  True,  True,  True,  True,  True,  True,\n",
       "         True,  True,  True,  True,  True,  True,  True,  True,  True,\n",
       "         True,  True,  True,  True,  True,  True,  True,  True,  True,\n",
       "         True,  True,  True,  True,  True,  True,  True,  True,  True,\n",
       "         True,  True,  True,  True,  True,  True,  True,  True,  True,\n",
       "         True,  True,  True,  True,  True,  True,  True,  True,  True,\n",
       "         True,  True,  True,  True,  True,  True,  True,  True,  True,\n",
       "         True,  True,  True,  True,  True,  True,  True,  True,  True,\n",
       "         True,  True,  True,  True,  True,  True,  True,  True,  True,\n",
       "         True,  True,  True,  True,  True,  True,  True,  True,  True,\n",
       "         True,  True,  True,  True,  True,  True,  True,  True,  True,\n",
       "         True]])"
      ]
     },
     "execution_count": 1080,
     "metadata": {},
     "output_type": "execute_result"
    }
   ],
   "source": [
    "sim.states[0]==sim.states[-1]\n",
    "\n",
    "#print('\\n'.join(''.join('.' if x == -1 else str(x) for x in row) for row in sim.road) + \"\\n\")\n",
    "# bisect_left(sim.car_positions[cars[0].position[0]], cars[0].position[1]) % (sim.road_size-1)\n",
    "\n",
    "# sim.car_positions[0]\n",
    "\n",
    "# print(sim.car_positions[3])\n",
    "# position_front = bisect_left(sim.car_positions[3], 40)"
   ]
  },
  {
   "cell_type": "code",
   "execution_count": 964,
   "metadata": {},
   "outputs": [
    {
     "data": {
      "text/plain": [
       "(array([ 2, 55]), 'v=', 0, 'front gap: ', 23, 'other gap: ', 99)"
      ]
     },
     "execution_count": 964,
     "metadata": {},
     "output_type": "execute_result"
    }
   ],
   "source": [
    "cars[0].position, 'v=', cars[0].v, 'front gap: ', cars[0].front_gap, 'other gap: ', cars[0].left_gap"
   ]
  },
  {
   "cell_type": "code",
   "execution_count": 523,
   "metadata": {},
   "outputs": [
    {
     "data": {
      "text/plain": [
       "False"
      ]
     },
     "execution_count": 523,
     "metadata": {},
     "output_type": "execute_result"
    }
   ],
   "source": [
    "cars[0].front_gap < cars[0].v + 1 and cars[0].other_gap > cars[0].v + 1 #and cars[0].back_gap > cars[0].vmax"
   ]
  },
  {
   "cell_type": "code",
   "execution_count": 784,
   "metadata": {},
   "outputs": [
    {
     "ename": "IndexError",
     "evalue": "list index out of range",
     "output_type": "error",
     "traceback": [
      "\u001b[0;31m---------------------------------------------------------------------------\u001b[0m",
      "\u001b[0;31mIndexError\u001b[0m                                Traceback (most recent call last)",
      "\u001b[0;32m<ipython-input-784-0018d5fafa91>\u001b[0m in \u001b[0;36m<module>\u001b[0;34m()\u001b[0m\n\u001b[0;32m----> 1\u001b[0;31m \u001b[0msim\u001b[0m\u001b[0;34m.\u001b[0m\u001b[0mcar_positions\u001b[0m\u001b[0;34m[\u001b[0m\u001b[0mcars\u001b[0m\u001b[0;34m[\u001b[0m\u001b[0;36m0\u001b[0m\u001b[0;34m]\u001b[0m\u001b[0;34m.\u001b[0m\u001b[0mposition\u001b[0m\u001b[0;34m[\u001b[0m\u001b[0;36m0\u001b[0m\u001b[0;34m]\u001b[0m\u001b[0;34m]\u001b[0m\u001b[0;34m[\u001b[0m\u001b[0;36m10\u001b[0m\u001b[0;34m]\u001b[0m\u001b[0;34m\u001b[0m\u001b[0m\n\u001b[0m\u001b[1;32m      2\u001b[0m \u001b[0;31m#bisect_left(sim.car_positions[cars[0].position[0]], 120)\u001b[0m\u001b[0;34m\u001b[0m\u001b[0;34m\u001b[0m\u001b[0m\n",
      "\u001b[0;31mIndexError\u001b[0m: list index out of range"
     ]
    }
   ],
   "source": [
    "sim.car_positions[cars[0].position[0]][10]\n",
    "#bisect_left(sim.car_positions[cars[0].position[0]], 120)"
   ]
  },
  {
   "cell_type": "code",
   "execution_count": 452,
   "metadata": {},
   "outputs": [
    {
     "data": {
      "text/plain": [
       "array([0, 0])"
      ]
     },
     "execution_count": 452,
     "metadata": {},
     "output_type": "execute_result"
    }
   ],
   "source": [
    "(np.array([1,2]) + np.array([2,4])) % (3,1)"
   ]
  },
  {
   "cell_type": "code",
   "execution_count": 298,
   "metadata": {},
   "outputs": [
    {
     "data": {
      "text/plain": [
       "[0, 1, 2, 3, 4, 5, 6, 7, 8, 9]"
      ]
     },
     "execution_count": 298,
     "metadata": {},
     "output_type": "execute_result"
    }
   ],
   "source": [
    "list(map(lambda x : x.id,list(filter(lambda x : x.lane == 1, cars))))"
   ]
  },
  {
   "cell_type": "code",
   "execution_count": 281,
   "metadata": {},
   "outputs": [
    {
     "data": {
      "text/plain": [
       "[1, 1, 1, 1, 1, 1, 1, 1, 1, 1]"
      ]
     },
     "execution_count": 281,
     "metadata": {},
     "output_type": "execute_result"
    }
   ],
   "source": [
    "[x.lane for x in cars]"
   ]
  },
  {
   "cell_type": "code",
   "execution_count": 414,
   "metadata": {},
   "outputs": [
    {
     "data": {
      "text/plain": [
       "-1.0"
      ]
     },
     "execution_count": 414,
     "metadata": {},
     "output_type": "execute_result"
    }
   ],
   "source": [
    "example_list = np.array([0,70])\n",
    "#print(*example_list)\n",
    "sim.road[tuple(example_list)]\n",
    "#(np.array([1,2]) + np.array([2,4])) % 4"
   ]
  },
  {
   "cell_type": "code",
   "execution_count": 685,
   "metadata": {},
   "outputs": [
    {
     "data": {
      "text/plain": [
       "99"
      ]
     },
     "execution_count": 685,
     "metadata": {},
     "output_type": "execute_result"
    }
   ],
   "source": [
    "-1 % 100\n",
    "\n",
    "# road_size = 100\n",
    "# density = 0.4\n",
    "# n_cars = round(road_size * density)\n",
    "\n",
    "# road = -1*np.ones(road_size)\n",
    "\n",
    "# initial_positions = np.random.choice(range(road_size),n_cars,replace=False)\n",
    "\n",
    "# cars = [Car(id=i, position= initial_positions[i],vmax=5) for i in range(n_cars)]\n",
    "# sorted_ids = np.array([car.id for car in sorted(cars, key = lambda x : x.position)])\n",
    "\n",
    "\n",
    "\n",
    "# print(road)\n",
    "\n",
    "# for t in range(4):\n",
    "#     for car in cars:\n",
    "#         car.update_panorama()\n",
    "#         car.update_v()\n",
    "#         car.update_position()\n",
    "\n",
    "#         road[car.position] = car.v\n",
    "\n",
    "#     print(road)\n",
    "\n",
    "\n",
    "\n",
    "\n",
    "# # for i,j in enumerate(sorted_ids):\n",
    "# #     cars[j].front_car = sorted_ids[(i+1) % n_cars]\n",
    "# #     cars[j].back_car = sorted_ids[(i-1) % n_cars]\n",
    "\n",
    "\n",
    "# #     if cars[cars[j].front_car].position > cars[j].position:\n",
    "# #         cars[j].front_gap = cars[cars[j].front_car].position - cars[j].position - 1\n",
    "# #     else:\n",
    "# #         cars[j].front_gap = road_size + (cars[cars[j].front_car].position - cars[j].position) - 1\n",
    "    \n",
    "\n",
    "# #     road[cars[j].position] = cars[j].v\n",
    "    \n",
    "# # print(road)\n",
    "    "
   ]
  },
  {
   "cell_type": "code",
   "execution_count": 1019,
   "metadata": {},
   "outputs": [
    {
     "data": {
      "text/plain": [
       "array([[-1., -1., -1., -1., -1., -1., -1., -1., -1., -1., -1., -1., -1.,\n",
       "        -1., -1., -1., -1., -1., -1., -1., -1., -1., -1., -1., -1., -1.,\n",
       "        -1., -1., -1., -1., -1., -1., -1., -1., -1., -1., -1., -1., -1.,\n",
       "        -1., -1., -1., -1., -1., -1., -1., -1., -1., -1., -1., -1., -1.,\n",
       "        -1., -1., -1., -1., -1., -1., -1., -1., -1., -1., -1., -1., -1.,\n",
       "        -1., -1., -1., -1., -1., -1., -1., -1., -1., -1., -1., -1., -1.,\n",
       "        -1., -1., -1., -1., -1., -1., -1., -1., -1., -1., -1., -1., -1.,\n",
       "        -1., -1., -1., -1., -1., -1., -1., -1., -1.],\n",
       "       [-1.,  1., -1., -1.,  2., -1., -1., -1.,  3., -1., -1.,  2.,  0.,\n",
       "         0., -1.,  1., -1., -1.,  2., -1., -1.,  2.,  0.,  0.,  0., -1.,\n",
       "         1., -1.,  1.,  0., -1.,  1., -1., -1.,  2., -1.,  1.,  0., -1.,\n",
       "         1., -1., -1.,  2., -1., -1., -1.,  3., -1., -1., -1., -1.,  4.,\n",
       "        -1., -1.,  2.,  0.,  0., -1.,  1., -1., -1.,  2., -1., -1.,  2.,\n",
       "        -1., -1.,  2., -1., -1., -1.,  3., -1., -1., -1., -1.,  4., -1.,\n",
       "         1., -1.,  1., -1., -1.,  2., -1., -1., -1.,  3., -1., -1., -1.,\n",
       "        -1.,  4., -1., -1.,  2., -1.,  1., -1.,  1.]])"
      ]
     },
     "execution_count": 1019,
     "metadata": {},
     "output_type": "execute_result"
    }
   ],
   "source": [
    "sim.states[2]"
   ]
  },
  {
   "cell_type": "code",
   "execution_count": 1092,
   "metadata": {},
   "outputs": [
    {
     "ename": "TypeError",
     "evalue": "draw() takes 0 positional arguments but 1 was given",
     "output_type": "error",
     "traceback": [
      "\u001b[0;31m---------------------------------------------------------------------------\u001b[0m",
      "\u001b[0;31mTypeError\u001b[0m                                 Traceback (most recent call last)",
      "\u001b[0;32m<ipython-input-1092-0bcce9f18d85>\u001b[0m in \u001b[0;36m<module>\u001b[0;34m()\u001b[0m\n\u001b[0;32m----> 1\u001b[0;31m \u001b[0mplt\u001b[0m\u001b[0;34m.\u001b[0m\u001b[0mdraw\u001b[0m\u001b[0;34m(\u001b[0m\u001b[0mframes\u001b[0m\u001b[0;34m[\u001b[0m\u001b[0;36m0\u001b[0m\u001b[0;34m]\u001b[0m\u001b[0;34m)\u001b[0m\u001b[0;34m\u001b[0m\u001b[0m\n\u001b[0m",
      "\u001b[0;31mTypeError\u001b[0m: draw() takes 0 positional arguments but 1 was given"
     ]
    }
   ],
   "source": []
  },
  {
   "cell_type": "code",
   "execution_count": 698,
   "metadata": {
    "collapsed": true
   },
   "outputs": [],
   "source": [
    "a = np.array([0,5])"
   ]
  },
  {
   "cell_type": "code",
   "execution_count": 699,
   "metadata": {
    "collapsed": true
   },
   "outputs": [],
   "source": [
    "a-=np.array([1,0])"
   ]
  },
  {
   "cell_type": "code",
   "execution_count": 742,
   "metadata": {},
   "outputs": [
    {
     "data": {
      "text/plain": [
       "[1, 0]"
      ]
     },
     "execution_count": 742,
     "metadata": {},
     "output_type": "execute_result"
    }
   ],
   "source": [
    "[np.random.choice([1,-1]),0]"
   ]
  },
  {
   "cell_type": "code",
   "execution_count": 794,
   "metadata": {},
   "outputs": [
    {
     "ename": "IndexError",
     "evalue": "list index out of range",
     "output_type": "error",
     "traceback": [
      "\u001b[0;31m---------------------------------------------------------------------------\u001b[0m",
      "\u001b[0;31mIndexError\u001b[0m                                Traceback (most recent call last)",
      "\u001b[0;32m<ipython-input-794-6f70a0cbdc74>\u001b[0m in \u001b[0;36m<module>\u001b[0;34m()\u001b[0m\n\u001b[0;32m----> 1\u001b[0;31m \u001b[0;34m[\u001b[0m\u001b[0;34m]\u001b[0m\u001b[0;34m[\u001b[0m\u001b[0;36m0\u001b[0m\u001b[0;34m]\u001b[0m\u001b[0;34m\u001b[0m\u001b[0m\n\u001b[0m",
      "\u001b[0;31mIndexError\u001b[0m: list index out of range"
     ]
    }
   ],
   "source": [
    "[][0]"
   ]
  },
  {
   "cell_type": "code",
   "execution_count": 1098,
   "metadata": {},
   "outputs": [
    {
     "data": {
      "text/plain": [
       "array([[ 2., -1.,  1., -1.,  1., -1.,  1., -1., -1.,  2.],\n",
       "       [-1., -1., -1., -1., -1., -1., -1., -1., -1., -1.]])"
      ]
     },
     "execution_count": 1098,
     "metadata": {},
     "output_type": "execute_result"
    }
   ],
   "source": [
    "sim.states[-6][:,:10]"
   ]
  },
  {
   "cell_type": "code",
   "execution_count": null,
   "metadata": {
    "collapsed": true
   },
   "outputs": [],
   "source": []
  }
 ],
 "metadata": {
  "kernelspec": {
   "display_name": "Python 3",
   "language": "python",
   "name": "python3"
  },
  "language_info": {
   "codemirror_mode": {
    "name": "ipython",
    "version": 3
   },
   "file_extension": ".py",
   "mimetype": "text/x-python",
   "name": "python",
   "nbconvert_exporter": "python",
   "pygments_lexer": "ipython3",
   "version": "3.6.2"
  }
 },
 "nbformat": 4,
 "nbformat_minor": 2
}
