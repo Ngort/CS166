{
 "cells": [
  {
   "cell_type": "markdown",
   "metadata": {},
   "source": [
    "### Traffic Simulation"
   ]
  },
  {
   "cell_type": "code",
   "execution_count": 679,
   "metadata": {},
   "outputs": [],
   "source": [
    "import matplotlib.pyplot as plt\n",
    "import matplotlib.animation as anim\n",
    "import numpy as np\n",
    "import scipy as sp\n",
    "import pandas as pd\n",
    "import time\n",
    "\n",
    "\n",
    "class TrafficSimulation:\n",
    "\n",
    "    def __init__(self, size=50, car_density=0.1 ,vmax=5, p_slow = 0):\n",
    "        self.car_density = car_density\n",
    "        self.size = size\n",
    "        self.state = np.zeros(size,dtype=np.int64)\n",
    "        self.p_slow = p_slow\n",
    "\n",
    "    def initialize(self):\n",
    "\n",
    "        self.state.fill(-1)\n",
    "\n",
    "        # Place random trees with the requested density\n",
    "        random_indexes = sp.random.choice(\n",
    "            range(self.size),\n",
    "            size=int(round(self.car_density * self.size)),\n",
    "            replace=False)\n",
    "        self.state.flat[random_indexes] = 1\n",
    "\n",
    "        # Ignite one random tree\n",
    "        if len(random_indexes) > 0:\n",
    "            self.state.flat[random_indexes[0]] = 3\n",
    "\n",
    "        self.time_step = 0\n",
    "        self.changed = True  # Track whether the state changed between the\n",
    "                             # previous time step and the current one\n",
    "\n",
    "    def draw(self):\n",
    "        fig, bars = plt.subplots(1, figsize=(15,7))\n",
    "        bars.cla()\n",
    "        bars.pcolor(sim.state.reshape(1,sim.state.shape[0]),vmin = -1, vmax = 5, cmap = plt.cm.binary)\n",
    "        bars.axis('image')\n",
    "        bars.set_xticks(range(0,sim.state.shape[0]+1,2))\n",
    "        bars.set_title('t = ' + str(self.time_step)) \n",
    "        if self.time_step == 0:\n",
    "            cbaxes = fig.add_axes([0, 0.7, 0.8, 0.02]) \n",
    "            cb = plt.colorbar(bars.pcolor(sim.state.reshape(1,sim.state.shape[0]),vmin = -1, vmax = 5, cmap = plt.cm.binary)\n",
    "            , cax = cbaxes, orientation = 'horizontal')  \n",
    "\n",
    "        fig.subplots_adjust(left=0)\n",
    "        fig.show()    \n",
    "            \n",
    "    def update(self):\n",
    "        self.time_step += 1\n",
    "\n",
    "        next_state = -1*np.ones(self.state.shape,dtype=np.int64)\n",
    "        #post_state = np.zeros(20,dtype=np.int64)\n",
    "        # Empty cells stay empty\n",
    "        \n",
    "        cars = np.where(self.state >= 0)[0]\n",
    "        #print 'cars: '+str(cars)\n",
    "        next_car = [cars[(i+1)%len(cars)] for i in range(len(cars))]\n",
    "        #print 'next cars: '+str(next_car) \n",
    "                \n",
    "        def car_distance(x,y):\n",
    "            if x > y: return x - y\n",
    "            else: return self.state.shape - x + y\n",
    "\n",
    "        for i,car in enumerate(cars):\n",
    "            if self.state[car] < vmax and car_distance(next_car[i], car) > self.state[car]+1:\n",
    "                self.state[car] += 1\n",
    "            elif car_distance(next_car[i], car) <= self.state[car] - 1:\n",
    "                self.state[car] = car_distance(next_car[i], car) - 1\n",
    "        \n",
    "        if np.random.random() < self.p_slow:\n",
    "            for i in cars:\n",
    "                self.state[i] -=1\n",
    "        \n",
    "        for x in cars[np.where(cars > 0)]: #only slow down cars that are actually running\n",
    "            next_state[(x + self.state[x])%sim.state.shape[0]] = self.state[x]\n",
    "\n",
    "        self.state = next_state"
   ]
  },
  {
   "cell_type": "code",
   "execution_count": 680,
   "metadata": {},
   "outputs": [
    {
     "data": {
      "image/png": "[encoded data removed]",
      "text/plain": [
       "<matplotlib.figure.Figure at 0x10678d9d0>"
      ]
     },
     "metadata": {},
     "output_type": "display_data"
    },
    {
     "data": {
      "image/png": "[encoded data removed]",
      "text/plain": [
       "<matplotlib.figure.Figure at 0x102e6d650>"
      ]
     },
     "metadata": {},
     "output_type": "display_data"
    },
    {
     "data": {
      "image/png": "[encoded data removed]",
      "text/plain": [
       "<matplotlib.figure.Figure at 0x10a621a10>"
      ]
     },
     "metadata": {},
     "output_type": "display_data"
    }
   ],
   "source": [
    "sim = TrafficSimulation(size=100,car_density=0.03, p_slow = 0.2)\n",
    "sim.initialize()\n",
    "sim.draw()\n",
    "\n",
    "for t in range(2):\n",
    "    sim.update()\n",
    "    sim.draw()\n",
    "#print(pd.DataFrame((sim.state.reshape(-1,len(sim.state)))))"
   ]
  },
  {
   "cell_type": "code",
   "execution_count": null,
   "metadata": {},
   "outputs": [],
   "source": []
  },
  {
   "cell_type": "code",
   "execution_count": null,
   "metadata": {},
   "outputs": [],
   "source": []
  },
  {
   "cell_type": "code",
   "execution_count": 474,
   "metadata": {},
   "outputs": [],
   "source": [
    "mock_state = np.array([0, 1, 0, 0 , 0, 1, 0, 0, 1, 0, 0, 1, 0, 0, 1, 0, 0, 0, 1,0])"
   ]
  },
  {
   "cell_type": "code",
   "execution_count": 475,
   "metadata": {},
   "outputs": [
    {
     "name": "stdout",
     "output_type": "stream",
     "text": [
      "cars: [ 1  5  8 11 14 18]\n",
      "next cars: [5, 8, 11, 14, 18, 1]\n",
      "[0 2 0 0 0 1 0 0 1 0 0 1 0 0 1 0 0 0 1 0]\n",
      "\u001b[94m[0 0 0 2 0 0 1 0 0 1 0 0 1 0 0 1 0 0 0 1]\u001b[0m\n",
      "[0 2 0 0 0 2 0 0 1 0 0 1 0 0 1 0 0 0 1 0]\n",
      "\u001b[94m[0 0 0 2 0 0 1 2 0 1 0 0 1 0 0 1 0 0 0 1]\u001b[0m\n",
      "[0 2 0 0 0 2 0 0 2 0 0 1 0 0 1 0 0 0 1 0]\n",
      "\u001b[94m[0 0 0 2 0 0 1 2 0 1 2 0 1 0 0 1 0 0 0 1]\u001b[0m\n",
      "[0 2 0 0 0 2 0 0 2 0 0 2 0 0 1 0 0 0 1 0]\n",
      "\u001b[94m[0 0 0 2 0 0 1 2 0 1 2 0 1 2 0 1 0 0 0 1]\u001b[0m\n",
      "[0 2 0 0 0 2 0 0 2 0 0 2 0 0 2 0 0 0 1 0]\n",
      "\u001b[94m[0 0 0 2 0 0 1 2 0 1 2 0 1 2 0 1 2 0 0 1]\u001b[0m\n",
      "[0 2 0 0 0 2 0 0 2 0 0 2 0 0 2 0 0 0 2 0]\n",
      "\u001b[94m[2 0 0 2 0 0 1 2 0 1 2 0 1 2 0 1 2 0 0 1]\u001b[0m\n",
      "[2 0 0 2 0 0 1 2 0 1 2 0 1 2 0 1 2 0 0 1]\n"
     ]
    }
   ],
   "source": [
    "vmax = 5\n",
    "cars = np.where(mock_state > 0)[0]\n",
    "print 'cars: '+str(cars)\n",
    "next_car = [cars[(i+1)%len(cars)] for i in range(len(cars))]\n",
    "print 'next cars: '+str(next_car) \n",
    "post_state = np.zeros(20,dtype=np.int64)\n",
    "\n",
    "def car_distance(x,y):\n",
    "    if x > y: return x-y\n",
    "    else: return len(mock_state) - x + y\n",
    "\n",
    "for i,car in enumerate(cars):\n",
    "    if mock_state[car] < vmax and car_distance(next_car[i], car) > mock_state[car]+1:\n",
    "        mock_state[car] += 1\n",
    "    elif car_distance(next_car[i], car) <= mock_state[car] - 1:\n",
    "        mock_state[car] = car_distance(next_car[i], car) - 1\n",
    "    \n",
    "    print(mock_state)\n",
    "    \n",
    "    for x in cars:\n",
    "        post_state[(x + mock_state[x])%len(mock_state)] = mock_state[x]\n",
    "    \n",
    "    print('\\033[94m' + str(post_state)+ '\\x1b[0m')\n",
    "    \n",
    "mock_state = post_state\n",
    "print mock_state"
   ]
  },
  {
   "cell_type": "code",
   "execution_count": null,
   "metadata": {},
   "outputs": [],
   "source": []
  },
  {
   "cell_type": "code",
   "execution_count": null,
   "metadata": {},
   "outputs": [],
   "source": []
  },
  {
   "cell_type": "code",
   "execution_count": null,
   "metadata": {},
   "outputs": [],
   "source": []
  },
  {
   "cell_type": "code",
   "execution_count": null,
   "metadata": {},
   "outputs": [],
   "source": []
  },
  {
   "cell_type": "code",
   "execution_count": null,
   "metadata": {},
   "outputs": [],
   "source": []
  },
  {
   "cell_type": "code",
   "execution_count": null,
   "metadata": {},
   "outputs": [],
   "source": []
  },
  {
   "cell_type": "code",
   "execution_count": null,
   "metadata": {
    "collapsed": true
   },
   "outputs": [],
   "source": []
  }
 ],
 "metadata": {
  "kernelspec": {
   "display_name": "Python 2",
   "language": "python",
   "name": "python2"
  },
  "language_info": {
   "codemirror_mode": {
    "name": "ipython",
    "version": 2
   },
   "file_extension": ".py",
   "mimetype": "text/x-python",
   "name": "python",
   "nbconvert_exporter": "python",
   "pygments_lexer": "ipython2",
   "version": "2.7.14"
  }
 },
 "nbformat": 4,
 "nbformat_minor": 1
}
